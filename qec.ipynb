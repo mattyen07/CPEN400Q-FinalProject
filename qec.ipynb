{
 "cells": [
  {
   "cell_type": "code",
<<<<<<< HEAD
   "execution_count": 318,
=======
   "execution_count": 229,
>>>>>>> f2d40e7a9a303be0dcfaf6403a87887d085a0a03
   "metadata": {},
   "outputs": [],
   "source": [
    "import pennylane as qml\n",
    "import pennylane.numpy as np\n",
    "import matplotlib.pyplot as plt\n",
    "from numpy.linalg import qr"
   ]
  },
  {
   "attachments": {},
   "cell_type": "markdown",
   "metadata": {},
   "source": [
    "# Constants\n"
   ]
  },
  {
   "cell_type": "code",
<<<<<<< HEAD
   "execution_count": 319,
=======
   "execution_count": 230,
>>>>>>> f2d40e7a9a303be0dcfaf6403a87887d085a0a03
   "metadata": {},
   "outputs": [],
   "source": [
    "noise_probability = 0.8\n",
    "\n",
    "Q_qubits = 1\n",
    "A_qubits = 2\n",
    "B_qubits = 2\n",
    "\n",
    "Q_wires = list(range(Q_qubits))\n",
    "A_wires = list(range(Q_qubits, Q_qubits + A_qubits))\n",
    "B_wires = list(range(Q_qubits + A_qubits, Q_qubits + A_qubits + B_qubits))\n",
    "\n",
    "#Dimensions of the unitary matrix for QA\n",
    "dim = 2 ** (Q_qubits + A_qubits)\n",
    "\n",
    "alpha_length = 18\n",
    "beta_length = 38\n",
    "\n",
    "#Quantum Device\n",
    "dev = qml.device('default.mixed', wires=Q_qubits + A_qubits + B_qubits)\n",
    "\n",
    "# Gradient Descent \n",
    "stepsize = 0.01\n",
    "momentum = 0.9\n",
    "\n",
    "# Number of iterations\n",
<<<<<<< HEAD
    "num_its = 10\n",
    "\n",
    "# Number of simulations\n",
    "num_sim = 3\n",
=======
    "num_its = 1\n",
    "\n",
    "# Number of simulations\n",
    "num_sim = 1000\n",
>>>>>>> f2d40e7a9a303be0dcfaf6403a87887d085a0a03
    "\n",
    "# Baseline Fidelity\n",
    "f_0 = 0.822"
   ]
  },
  {
   "cell_type": "markdown",
   "metadata": {},
   "source": [
    "# $\\hat{V}_{QA}$"
   ]
  },
  {
   "cell_type": "code",
<<<<<<< HEAD
   "execution_count": 320,
=======
   "execution_count": 231,
>>>>>>> f2d40e7a9a303be0dcfaf6403a87887d085a0a03
   "metadata": {},
   "outputs": [],
   "source": [
    "def prepare_Q(U, wires):\n",
    "    \"\"\"Prepares Q into the quantum state defined by the unitary U\n",
    "\n",
    "    Args:\n",
    "        U (array[complex]): the matrix U to apply to the fiduciary quantum state of Q\n",
    "        wires (array[int]): the wires representing Q. If Q is a single-qubit, then this should be an array of length 1.\n",
    "    \"\"\"\n",
    "    qml.QubitUnitary(U, wires)"
   ]
  },
  {
   "cell_type": "code",
<<<<<<< HEAD
   "execution_count": 321,
=======
   "execution_count": 232,
>>>>>>> f2d40e7a9a303be0dcfaf6403a87887d085a0a03
   "metadata": {},
   "outputs": [],
   "source": [
    "def prepare_V_QA(alpha, wires):\n",
    "    \"\"\"Prepares the V_QA parametric gate given the vector alpha for a Q with k=1 qubits\n",
    "\n",
    "    Args:\n",
    "        alpha (array[complex]): The alpha vector containing the angles used for rotation in the Pauli operators\n",
    "        wires (array[int]): The wires to act on. wires[0] should represent Q, and wires[1..2] shoudl represent A\n",
    "    \"\"\"\n",
    "    # First two gates for each wire\n",
    "    return\n",
    "    qml.RY(alpha[0], wires=wires[0])\n",
    "    qml.RX(alpha[1], wires=wires[0])\n",
    "\n",
    "    qml.RY(alpha[6], wires=wires[1])\n",
    "    qml.RX(alpha[7], wires=wires[1])\n",
    "\n",
    "    qml.RY(alpha[12], wires=wires[2])\n",
    "    qml.RX(alpha[13], wires=wires[2])\n",
    "\n",
    "    # Controlled on wire 0\n",
    "    qml.CRX(alpha[8], wires=[wires[0], wires[1]])\n",
    "    qml.CRX(alpha[14], wires=[wires[0], wires[2]])\n",
    "\n",
    "    # Controlled on wire 1\n",
    "    qml.CRX(alpha[2], wires=[wires[1], wires[0]])\n",
    "    qml.CRX(alpha[15], wires=[wires[1], wires[2]])\n",
    "\n",
    "    # Controlled on wire 2\n",
    "    qml.CRX(alpha[3], wires=[wires[2], wires[0]])\n",
    "    qml.CRX(alpha[9], wires=[wires[2], wires[1]])\n",
    "\n",
    "    # Last two gates for each wire\n",
    "    qml.RY(alpha[4], wires=wires[0])\n",
    "    qml.RX(alpha[5], wires=wires[0])\n",
    "\n",
    "    qml.RY(alpha[10], wires=wires[1])\n",
    "    qml.RX(alpha[11], wires=wires[1])\n",
    "\n",
    "    qml.RY(alpha[16], wires=wires[2])\n",
    "    qml.RX(alpha[17], wires=wires[2])"
   ]
  },
  {
   "cell_type": "markdown",
   "metadata": {},
   "source": [
    "# $\\hat{W}_{QAB}$"
   ]
  },
  {
   "cell_type": "code",
<<<<<<< HEAD
   "execution_count": 322,
=======
   "execution_count": 233,
>>>>>>> f2d40e7a9a303be0dcfaf6403a87887d085a0a03
   "metadata": {},
   "outputs": [],
   "source": [
    "def prepare_W_QAB(beta, wires):\n",
    "    \"\"\"Prepares the W_QAB parametric gate given the vector beta for a Q with k=1 qubits\n",
    "\n",
    "    Args:\n",
    "        beta (array[complex]): The beta vector containing the angles used for rotation in the Pauli operators\n",
    "        wires (array[int]): The wires to act on. wires[0] should represent Q, wires[1..2] should represent A, and wires[3..4] should represent B\n",
    "    \"\"\"\n",
    "    return\n",
    "    # First two gates for each wire\n",
    "    qml.RY(beta[0], wires=wires[0])\n",
    "    qml.RX(beta[1], wires=wires[0])\n",
    "\n",
    "    qml.RY(beta[10], wires=wires[1])\n",
    "    qml.RX(beta[11], wires=wires[1])\n",
    "\n",
    "    qml.RY(beta[20], wires=wires[2])\n",
    "    qml.RX(beta[21], wires=wires[2])\n",
    "\n",
    "    qml.RY(beta[30], wires=wires[3])\n",
    "    qml.RX(beta[31], wires=wires[3])\n",
    "\n",
    "    qml.RY(beta[34], wires=wires[4])\n",
    "    qml.RX(beta[35], wires=wires[4])\n",
    "\n",
    "    # Controlled on wire 3\n",
    "    qml.CRX(beta[2], wires=[wires[3], wires[0]])\n",
    "    qml.CRZ(beta[3], wires=[wires[3], wires[0]])\n",
    "\n",
    "    qml.CRX(beta[12], wires=[wires[3], wires[1]])\n",
    "    qml.CRZ(beta[13], wires=[wires[3], wires[1]])\n",
    "\n",
    "    qml.CRX(beta[22], wires=[wires[3], wires[2]])\n",
    "    qml.CRZ(beta[23], wires=[wires[3], wires[2]])\n",
    "\n",
    "    # Controlled on wire 4\n",
    "    qml.CRX(beta[4], wires=[wires[4], wires[0]])\n",
    "    qml.CRZ(beta[5], wires=[wires[4], wires[0]])\n",
    "\n",
    "    qml.CRX(beta[14], wires=[wires[4], wires[1]])\n",
    "    qml.CRZ(beta[15], wires=[wires[4], wires[1]])\n",
    "\n",
    "    qml.CRX(beta[24], wires=[wires[4], wires[2]])\n",
    "    qml.CRZ(beta[25], wires=[wires[4], wires[2]])\n",
    "\n",
    "    # Middle rotation gates for each wire\n",
    "    qml.RY(beta[6], wires=wires[0])\n",
    "    qml.RX(beta[7], wires=wires[0])\n",
    "\n",
    "    qml.RY(beta[16], wires=wires[1])\n",
    "    qml.RX(beta[17], wires=wires[1])\n",
    "\n",
    "    qml.RY(beta[26], wires=wires[2])\n",
    "    qml.RX(beta[27], wires=wires[2])\n",
    "\n",
    "    qml.RY(beta[22], wires=wires[3])\n",
    "    qml.RX(beta[23], wires=wires[3])\n",
    "\n",
    "    qml.RY(beta[36], wires=wires[4])\n",
    "    qml.RX(beta[37], wires=wires[4])\n",
    "\n",
    "    # Controlled to apply on wire 0\n",
    "    qml.ctrl(qml.RZ(beta[8], wires=wires[0]), control=[wires[3], wires[4]], control_values=[1, 0])\n",
    "    qml.ctrl(qml.RX(beta[9], wires=wires[0]), control=[wires[3], wires[4]], control_values=[1, 0])\n",
    "\n",
    "    # Controlled to apply on wire 1\n",
    "    qml.ctrl(qml.RZ(beta[18], wires=wires[1]), control=[wires[3], wires[4]], control_values=[1, 1])\n",
    "    qml.ctrl(qml.RX(beta[19], wires=wires[1]), control=[wires[3], wires[4]], control_values=[1, 1])\n",
    "\n",
    "    # Controlled to apply on wire 2\n",
    "    qml.ctrl(qml.RZ(beta[28], wires=wires[2]), control=[wires[3], wires[4]], control_values=[0, 1])\n",
    "    qml.ctrl(qml.RX(beta[29], wires=wires[2]), control=[wires[3], wires[4]], control_values=[0, 1])"
   ]
  },
  {
   "attachments": {},
   "cell_type": "markdown",
   "metadata": {},
   "source": [
    "# Calculate Hamiltonians for Fidelity and Wasserstein"
   ]
  },
  {
   "cell_type": "code",
<<<<<<< HEAD
   "execution_count": 323,
=======
   "execution_count": 234,
>>>>>>> f2d40e7a9a303be0dcfaf6403a87887d085a0a03
   "metadata": {},
   "outputs": [],
   "source": [
    "# Get the fidelity hamiltonian matrix from the 0 state\n",
    "@qml.qnode(dev)\n",
    "def fiduciary_density(wires):\n",
    "    return qml.density_matrix(wires)\n",
    "\n",
    "#Calculate the hamiltonian for the fiduciary cost\n",
    "H_QA_fid = np.identity(dim) - fiduciary_density(Q_wires + A_wires)\n",
    "\n",
    "def wass_hamiltonian():\n",
    "    H_wass = np.zeros((dim, dim))\n",
    "    for i in range (1, dim):\n",
    "        vec = np.zeros((dim, 1))\n",
    "        vec[i, 0] = 1\n",
    "        \n",
    "        # Binary 011, 101, 110\n",
    "        if i == 3 or i == 5 or i == 6:\n",
    "            density_mat = 2 * np.outer(vec, vec.T)\n",
    "        # Binary 111\n",
    "        elif i == 7:\n",
    "            density_mat = 3 * np.outer(vec, vec.T)\n",
    "        # Binary 001, 010, 100\n",
    "        else:\n",
    "            density_mat = np.outer(vec, vec.T)\n",
    "            \n",
    "        H_wass += density_mat\n",
    "    return H_wass\n",
    "\n",
    "H_QA_wass = wass_hamiltonian()"
   ]
  },
  {
   "attachments": {},
   "cell_type": "markdown",
   "metadata": {},
   "source": [
    "# Define Kraus Operators for Noise"
   ]
  },
  {
   "cell_type": "code",
<<<<<<< HEAD
   "execution_count": 324,
=======
   "execution_count": 235,
>>>>>>> f2d40e7a9a303be0dcfaf6403a87887d085a0a03
   "metadata": {},
   "outputs": [],
   "source": [
    "phase_K0 = np.sqrt(1 - noise_probability) * np.kron(np.kron(qml.Identity.compute_matrix(), qml.Identity.compute_matrix()), qml.Identity.compute_matrix())\n",
    "phase_K1 = np.sqrt(noise_probability / 3) * np.kron(np.kron(qml.PauliZ.compute_matrix(), qml.Identity.compute_matrix()), qml.Identity.compute_matrix())\n",
    "phase_K2 = np.sqrt(noise_probability / 3) * np.kron(np.kron(qml.Identity.compute_matrix(), qml.PauliZ.compute_matrix()), qml.Identity.compute_matrix())\n",
    "phase_K3 = np.sqrt(noise_probability / 3) * np.kron(np.kron(qml.Identity.compute_matrix(), qml.Identity.compute_matrix()), qml.PauliZ.compute_matrix())\n",
    "\n",
    "phaseflip_kraus_ops = [phase_K0, phase_K1, phase_K2, phase_K3]\n",
    "\n",
    "bit_K0 = np.sqrt(1 - noise_probability) * np.kron(np.kron(qml.Identity.compute_matrix(), qml.Identity.compute_matrix()), qml.Identity.compute_matrix())\n",
    "bit_K1 = np.sqrt(noise_probability / 3) * np.kron(np.kron(qml.PauliX.compute_matrix(), qml.Identity.compute_matrix()), qml.Identity.compute_matrix())\n",
    "bit_K2 = np.sqrt(noise_probability / 3) * np.kron(np.kron(qml.Identity.compute_matrix(), qml.PauliX.compute_matrix()), qml.Identity.compute_matrix())\n",
    "bit_K3 = np.sqrt(noise_probability / 3) * np.kron(np.kron(qml.Identity.compute_matrix(), qml.Identity.compute_matrix()), qml.PauliX.compute_matrix())\n",
    "\n",
    "bitflip_kraus_ops = [bit_K0, bit_K1, bit_K2, bit_K3]\n"
   ]
  },
  {
   "attachments": {},
   "cell_type": "markdown",
   "metadata": {},
   "source": [
    "# Implementation of the VQA returning the final density matrix for fidelity calculations"
   ]
  },
  {
   "cell_type": "code",
<<<<<<< HEAD
   "execution_count": 325,
=======
   "execution_count": 236,
>>>>>>> f2d40e7a9a303be0dcfaf6403a87887d085a0a03
   "metadata": {},
   "outputs": [],
   "source": [
    "@qml.qnode(dev)\n",
    "def find_density(U, alpha, beta, bitFlip=True):\n",
    "    prepare_Q(U, Q_wires)\n",
    "    prepare_V_QA(alpha, Q_wires + A_wires)\n",
    "\n",
    "    # Insert noise according to boolean value\n",
    "    if (bitFlip):\n",
    "        qml.QubitChannel(bitflip_kraus_ops, wires=[0,1,2])\n",
    "    else: \n",
    "        qml.QubitChannel(phaseflip_kraus_ops, wires=[0,1,2])\n",
    "    \n",
    "    prepare_W_QAB(beta, Q_wires + A_wires + B_wires)\n",
    "    qml.adjoint(prepare_V_QA)(alpha, Q_wires + A_wires)\n",
    "    qml.adjoint(prepare_Q)(U, Q_wires)\n",
    "    return qml.density_matrix(wires=[0,1,2])"
   ]
  },
  {
   "attachments": {},
   "cell_type": "markdown",
   "metadata": {},
   "source": [
    "# Implementation of the VQA returning the density matrix after unitary"
   ]
  },
  {
   "cell_type": "code",
<<<<<<< HEAD
   "execution_count": 326,
=======
   "execution_count": 237,
>>>>>>> f2d40e7a9a303be0dcfaf6403a87887d085a0a03
   "metadata": {},
   "outputs": [],
   "source": [
    "@qml.qnode(dev)\n",
    "def unitary_density(U, alpha, beta):\n",
<<<<<<< HEAD
    "    prepare_Q(U, Q_wires)\n",
    "    prepare_V_QA(alpha, Q_wires + A_wires)\n",
    "    prepare_W_QAB(beta, Q_wires + A_wires + B_wires)\n",
    "    qml.adjoint(prepare_V_QA)(alpha, Q_wires + A_wires)\n",
    "    qml.adjoint(prepare_Q)(U, Q_wires)\n",
    "\n",
    "    return qml.density_matrix(wires=[0,1,2])"
=======
    "    # prepare_Q(U, Q_wires)\n",
    "    # prepare_V_QA(alpha, Q_wires + A_wires)\n",
    "    # prepare_W_QAB(beta, Q_wires + A_wires + B_wires)\n",
    "    # qml.adjoint(prepare_V_QA)(alpha, Q_wires + A_wires)\n",
    "    # qml.adjoint(prepare_Q)(U, Q_wires)\n",
    "    \n",
    "    return qml.state()"
>>>>>>> f2d40e7a9a303be0dcfaf6403a87887d085a0a03
   ]
  },
  {
   "attachments": {},
   "cell_type": "markdown",
   "metadata": {},
   "source": [
    "# Implementation of the VQA returning the cost"
   ]
  },
  {
   "cell_type": "code",
<<<<<<< HEAD
   "execution_count": 327,
=======
   "execution_count": 238,
>>>>>>> f2d40e7a9a303be0dcfaf6403a87887d085a0a03
   "metadata": {},
   "outputs": [],
   "source": [
    "@qml.qnode(dev)\n",
    "def VQA_fidelity(U, alpha, beta, bitFlip=True):\n",
    "    prepare_Q(U, Q_wires)\n",
    "    prepare_V_QA(alpha, Q_wires + A_wires)\n",
    "\n",
    "    # Insert noise according to boolean value\n",
    "    if (bitFlip):\n",
    "        qml.QubitChannel(bitflip_kraus_ops, wires=[0,1,2])\n",
    "    else: \n",
    "        qml.QubitChannel(phaseflip_kraus_ops, wires=[0,1,2])\n",
    "    \n",
    "    prepare_W_QAB(beta, Q_wires + A_wires + B_wires)\n",
    "    qml.adjoint(prepare_V_QA)(alpha, Q_wires + A_wires)\n",
    "    qml.adjoint(prepare_Q)(U, Q_wires)\n",
    "    return qml.expval(qml.Hermitian(H_QA_fid, wires=[0,1,2]))\n",
    "    \n",
    "\n",
    "@qml.qnode(dev)\n",
    "def VQA_wasserstein(U, alpha, beta, bitFlip=True):\n",
    "    prepare_Q(U, Q_wires)\n",
    "    prepare_V_QA(alpha, Q_wires + A_wires)\n",
    "\n",
    "    # Insert noise according to boolean value\n",
    "    if (bitFlip):\n",
    "        qml.QubitChannel(bitflip_kraus_ops, wires=[0,1,2])\n",
    "    else: \n",
    "        qml.QubitChannel(phaseflip_kraus_ops, wires=[0,1,2])\n",
    "\n",
    "    prepare_W_QAB(beta, Q_wires + A_wires + B_wires)\n",
    "    qml.adjoint(prepare_V_QA)(alpha, Q_wires + A_wires)\n",
    "    qml.adjoint(prepare_Q)(U, Q_wires)\n",
    "    \n",
    "    return qml.expval(qml.Hermitian(H_QA_wass, wires=[0,1,2]))"
   ]
  },
  {
   "cell_type": "markdown",
   "metadata": {},
   "source": [
    "# Cost Function (Fidelity)"
   ]
  },
  {
   "cell_type": "code",
<<<<<<< HEAD
   "execution_count": 328,
=======
   "execution_count": 239,
>>>>>>> f2d40e7a9a303be0dcfaf6403a87887d085a0a03
   "metadata": {},
   "outputs": [],
   "source": [
    "def fidelity_cost_bitflip_noise(U):\n",
    "    def compute_cost(alpha, beta):\n",
<<<<<<< HEAD
    "        return VQA_fidelity(U, alpha, beta, True)\n",
=======
    "        density_matrix = VQA_fidelity(U, alpha, beta, True)\n",
    "        return np.real(np.trace(density_matrix @ H_QA_fid))\n",
>>>>>>> f2d40e7a9a303be0dcfaf6403a87887d085a0a03
    "\n",
    "    return compute_cost"
   ]
  },
  {
   "cell_type": "code",
<<<<<<< HEAD
   "execution_count": 329,
=======
   "execution_count": 240,
>>>>>>> f2d40e7a9a303be0dcfaf6403a87887d085a0a03
   "metadata": {},
   "outputs": [],
   "source": [
    "def fidelity_cost_phaseflip_noise(U):\n",
    "    def compute_cost(alpha, beta):\n",
<<<<<<< HEAD
    "        return VQA_fidelity(U, alpha, beta, True)\n",
=======
    "        density_matrix = VQA_fidelity(U, alpha, beta, True)\n",
    "        return np.real(np.trace(density_matrix @ H_QA_fid))\n",
>>>>>>> f2d40e7a9a303be0dcfaf6403a87887d085a0a03
    "\n",
    "    return compute_cost"
   ]
  },
  {
   "cell_type": "code",
<<<<<<< HEAD
   "execution_count": 330,
=======
   "execution_count": 241,
>>>>>>> f2d40e7a9a303be0dcfaf6403a87887d085a0a03
   "metadata": {},
   "outputs": [],
   "source": [
    "def wasserstein_cost_bitflip_noise(U):\n",
    "    def compute_cost(alpha, beta):\n",
<<<<<<< HEAD
    "        return VQA_wasserstein(U, alpha, beta, True)\n",
=======
    "        density_matrix = VQA_wasserstein(U, alpha, beta, True)\n",
    "        return np.real(np.trace(density_matrix @ H_QA_wass))\n",
>>>>>>> f2d40e7a9a303be0dcfaf6403a87887d085a0a03
    "    \n",
    "    return compute_cost"
   ]
  },
  {
   "cell_type": "code",
<<<<<<< HEAD
   "execution_count": 331,
=======
   "execution_count": 242,
>>>>>>> f2d40e7a9a303be0dcfaf6403a87887d085a0a03
   "metadata": {},
   "outputs": [],
   "source": [
    "def wasserstein_cost_phaseflip_noise(U):\n",
    "    def compute_cost(alpha, beta):\n",
<<<<<<< HEAD
    "        return VQA_wasserstein(U, alpha, beta, True)\n",
=======
    "        density_matrix = VQA_wasserstein(U, alpha, beta, True)\n",
    "        return np.real(np.trace(density_matrix @ H_QA_wass))\n",
>>>>>>> f2d40e7a9a303be0dcfaf6403a87887d085a0a03
    "    \n",
    "    return compute_cost"
   ]
  },
  {
   "attachments": {},
   "cell_type": "markdown",
   "metadata": {},
   "source": [
    "# Reproducing Results"
   ]
  },
  {
   "attachments": {},
   "cell_type": "markdown",
   "metadata": {},
   "source": [
    "Generate a Haar measure unitary matrix\n",
    "\n",
    "Code taken from: https://pennylane.ai/qml/demos/tutorial_haar_measure.html"
   ]
  },
  {
   "cell_type": "code",
<<<<<<< HEAD
   "execution_count": 332,
=======
   "execution_count": 243,
>>>>>>> f2d40e7a9a303be0dcfaf6403a87887d085a0a03
   "metadata": {},
   "outputs": [],
   "source": [
    "def qr_haar(N):\n",
    "    \"\"\"Generate a Haar-random matrix using the QR decomposition.\"\"\"\n",
    "    # Step 1\n",
    "    A, B = np.random.normal(size=(N, N)), np.random.normal(size=(N, N))\n",
    "    Z = A + 1j * B\n",
    "\n",
    "    # Step 2\n",
    "    Q, R = qr(Z)\n",
    "\n",
    "    # Step 3\n",
    "    Lambda = np.diag([R[i, i] / np.abs(R[i, i]) for i in range(N)])\n",
    "\n",
    "    # Step 4\n",
    "    return np.dot(Q, Lambda)"
   ]
  },
  {
   "cell_type": "code",
<<<<<<< HEAD
   "execution_count": 333,
=======
   "execution_count": 244,
>>>>>>> f2d40e7a9a303be0dcfaf6403a87887d085a0a03
   "metadata": {},
   "outputs": [],
   "source": [
    "def simulation(noiseModel, bitFlip):\n",
    "    opt = qml.MomentumOptimizer(stepsize, momentum)\n",
    "    alpha = np.random.uniform(0, np.pi, size=(alpha_length,))\n",
    "    beta = np.random.uniform(0, np.pi, size=(beta_length,))\n",
    "    # U = qr_haar(2)\n",
    "    U = qml.Hadamard.compute_matrix()\n",
    "\n",
    "    running_costs = []\n",
    "\n",
    "    iterations = 0\n",
    "\n",
    "    while iterations < num_its:\n",
    "        (alpha, beta), _cost = opt.step_and_cost(noiseModel(U), alpha, beta)\n",
    "        running_costs.append(_cost)\n",
    "        \n",
    "        if _cost < 1e-5:\n",
    "            break\n",
    "        \n",
    "        iterations += 1\n",
    "\n",
    "    initialDensity = unitary_density(U, alpha, beta)\n",
    "    finalDensity = find_density(U, alpha, beta, bitFlip)\n",
    "    fidelity = qml.math.fidelity(initialDensity, finalDensity)\n",
    "    \n",
    "    return alpha, beta, iterations, fidelity\n"
   ]
  },
  {
   "attachments": {},
   "cell_type": "markdown",
   "metadata": {},
   "source": [
    "## Bitflip results"
   ]
  },
  {
   "cell_type": "code",
<<<<<<< HEAD
   "execution_count": 334,
=======
   "execution_count": 245,
>>>>>>> f2d40e7a9a303be0dcfaf6403a87887d085a0a03
   "metadata": {},
   "outputs": [],
   "source": [
    "fidelityIterations = []\n",
    "fidelityFidelity = []\n",
    "\n",
    "for i in range(num_sim):\n",
    "    _, _, iterations, fidelity = simulation(fidelity_cost_bitflip_noise, True)\n",
    "\n",
    "    # if fidelity > f_0:\n",
    "    fidelityIterations.append(iterations)\n",
    "    fidelityFidelity.append(fidelity)\n"
   ]
  },
  {
   "cell_type": "code",
<<<<<<< HEAD
   "execution_count": 335,
=======
   "execution_count": 248,
>>>>>>> f2d40e7a9a303be0dcfaf6403a87887d085a0a03
   "metadata": {},
   "outputs": [],
   "source": [
    "wassIterations = []\n",
    "wassFidelity = []\n",
    "\n",
    "for i in range(num_sim):\n",
    "    _, _, iterations, fidelity = simulation(wasserstein_cost_bitflip_noise, True)\n",
    "\n",
    "    # if fidelity > f_0:\n",
    "    wassIterations.append(iterations)\n",
    "    wassFidelity.append(fidelity)\n"
   ]
  },
  {
   "cell_type": "code",
<<<<<<< HEAD
   "execution_count": 336,
=======
   "execution_count": 249,
>>>>>>> f2d40e7a9a303be0dcfaf6403a87887d085a0a03
   "metadata": {},
   "outputs": [
    {
     "name": "stdout",
     "output_type": "stream",
     "text": [
<<<<<<< HEAD
      "[10, 10, 10]\n",
      "[0.5987863836269811, 0.7192901395453613, 0.6856658694825457]\n",
      "[10, 10, 10]\n",
      "[0.4978377978816959, 0.6516499248554547, 0.5713805356477277]\n"
=======
      "[1, 1, 1, 1, 1, 1, 1, 1, 1, 1, 1, 1, 1, 1, 1, 1, 1, 1, 1, 1, 1, 1, 1, 1, 1, 1, 1, 1, 1, 1, 1, 1, 1, 1, 1, 1, 1, 1, 1, 1, 1, 1, 1, 1, 1, 1, 1, 1, 1, 1, 1, 1, 1, 1, 1, 1, 1, 1, 1, 1, 1, 1, 1, 1, 1, 1, 1, 1, 1, 1, 1, 1, 1, 1, 1, 1, 1, 1, 1, 1, 1, 1, 1, 1, 1, 1, 1, 1, 1, 1, 1, 1, 1, 1, 1, 1, 1, 1, 1, 1, 1, 1, 1, 1, 1, 1, 1, 1, 1, 1, 1, 1, 1, 1, 1, 1, 1, 1, 1, 1, 1, 1, 1, 1, 1, 1, 1, 1, 1, 1, 1, 1, 1, 1, 1, 1, 1, 1, 1, 1, 1, 1, 1, 1, 1, 1, 1, 1, 1, 1, 1, 1, 1, 1, 1, 1, 1, 1, 1, 1, 1, 1, 1, 1, 1, 1, 1, 1, 1, 1, 1, 1, 1, 1, 1, 1, 1, 1, 1, 1, 1, 1, 1, 1, 1, 1, 1, 1, 1, 1, 1, 1, 1, 1, 1, 1, 1, 1, 1, 1, 1, 1, 1, 1, 1, 1, 1, 1, 1, 1, 1, 1, 1, 1, 1, 1, 1, 1, 1, 1, 1, 1, 1, 1, 1, 1, 1, 1, 1, 1, 1, 1, 1, 1, 1, 1, 1, 1, 1, 1, 1, 1, 1, 1, 1, 1, 1, 1, 1, 1, 1, 1, 1, 1, 1, 1, 1, 1, 1, 1, 1, 1, 1, 1, 1, 1, 1, 1, 1, 1, 1, 1, 1, 1, 1, 1, 1, 1, 1, 1, 1, 1, 1, 1, 1, 1, 1, 1, 1, 1, 1, 1, 1, 1, 1, 1, 1, 1, 1, 1, 1, 1, 1, 1, 1, 1, 1, 1, 1, 1, 1, 1, 1, 1, 1, 1, 1, 1, 1, 1, 1, 1, 1, 1, 1, 1, 1, 1, 1, 1, 1, 1, 1, 1, 1, 1, 1, 1, 1, 1, 1, 1, 1, 1, 1, 1, 1, 1, 1, 1, 1, 1, 1, 1, 1, 1, 1, 1, 1, 1, 1, 1, 1, 1, 1, 1, 1, 1, 1, 1, 1, 1, 1, 1, 1, 1, 1, 1, 1, 1, 1, 1, 1, 1, 1, 1, 1, 1, 1, 1, 1, 1, 1, 1, 1, 1, 1, 1, 1, 1, 1, 1, 1, 1, 1, 1, 1, 1, 1, 1, 1, 1, 1, 1, 1, 1, 1, 1, 1, 1, 1, 1, 1, 1, 1, 1, 1, 1, 1, 1, 1, 1, 1, 1, 1, 1, 1, 1, 1, 1, 1, 1, 1, 1, 1, 1, 1, 1, 1, 1, 1, 1, 1, 1, 1, 1, 1, 1, 1, 1, 1, 1, 1, 1, 1, 1, 1, 1, 1, 1, 1, 1, 1, 1, 1, 1, 1, 1, 1, 1, 1, 1, 1, 1, 1, 1, 1, 1, 1, 1, 1, 1, 1, 1, 1, 1, 1, 1, 1, 1, 1, 1, 1, 1, 1, 1, 1, 1, 1, 1, 1, 1, 1, 1, 1, 1, 1, 1, 1, 1, 1, 1, 1, 1, 1, 1, 1, 1, 1, 1, 1, 1, 1, 1, 1, 1, 1, 1, 1, 1, 1, 1, 1, 1, 1, 1, 1, 1, 1, 1, 1, 1, 1, 1, 1, 1, 1, 1, 1, 1, 1, 1, 1, 1, 1, 1, 1, 1, 1, 1, 1, 1, 1, 1, 1, 1, 1, 1, 1, 1, 1, 1, 1, 1, 1, 1, 1, 1, 1, 1, 1, 1, 1, 1, 1, 1, 1, 1, 1, 1, 1, 1, 1, 1, 1, 1, 1, 1, 1, 1, 1, 1, 1, 1, 1, 1, 1, 1, 1, 1, 1, 1, 1, 1, 1, 1, 1, 1, 1, 1, 1, 1, 1, 1, 1, 1, 1, 1, 1, 1, 1, 1, 1, 1, 1, 1, 1, 1, 1, 1, 1, 1, 1, 1, 1, 1, 1, 1, 1, 1, 1, 1, 1, 1, 1, 1, 1, 1, 1, 1, 1, 1, 1, 1, 1, 1, 1, 1, 1, 1, 1, 1, 1, 1, 1, 1, 1, 1, 1, 1, 1, 1, 1, 1, 1, 1, 1, 1, 1, 1, 1, 1, 1, 1, 1, 1, 1, 1, 1, 1, 1, 1, 1, 1, 1, 1, 1, 1, 1, 1, 1, 1, 1, 1, 1, 1, 1, 1, 1, 1, 1, 1, 1, 1, 1, 1, 1, 1, 1, 1, 1, 1, 1, 1, 1, 1, 1, 1, 1, 1, 1, 1, 1, 1, 1, 1, 1, 1, 1, 1, 1, 1, 1, 1, 1, 1, 1, 1, 1, 1, 1, 1, 1, 1, 1, 1, 1, 1, 1, 1, 1, 1, 1, 1, 1, 1, 1, 1, 1, 1, 1, 1, 1, 1, 1, 1, 1, 1, 1, 1, 1, 1, 1, 1, 1, 1, 1, 1, 1, 1, 1, 1, 1, 1, 1, 1, 1, 1, 1, 1, 1, 1, 1, 1, 1, 1, 1, 1, 1, 1, 1, 1, 1, 1, 1, 1, 1, 1, 1, 1, 1, 1, 1, 1, 1, 1, 1, 1, 1, 1, 1, 1, 1, 1, 1, 1, 1, 1, 1, 1, 1, 1, 1, 1, 1, 1, 1, 1, 1, 1, 1, 1, 1, 1, 1, 1, 1, 1, 1, 1, 1, 1, 1, 1, 1, 1, 1, 1, 1, 1, 1, 1, 1, 1, 1, 1, 1, 1, 1, 1, 1, 1, 1, 1, 1, 1, 1, 1, 1, 1, 1, 1, 1, 1, 1, 1, 1, 1, 1, 1, 1, 1, 1, 1, 1, 1, 1, 1, 1, 1, 1, 1, 1, 1, 1, 1, 1, 1, 1, 1, 1, 1, 1, 1, 1, 1, 1, 1, 1, 1, 1, 1, 1, 1, 1, 1, 1, 1, 1, 1, 1, 1, 1, 1, 1, 1, 1, 1, 1, 1, 1, 1, 1, 1, 1, 1, 1, 1, 1, 1, 1, 1, 1, 1, 1, 1, 1, 1, 1, 1, 1, 1, 1, 1, 1, 1, 1, 1, 1, 1]\n",
      "0.2893224887739237\n",
      "[1, 1, 1, 1, 1, 1, 1, 1, 1, 1, 1, 1, 1, 1, 1, 1, 1, 1, 1, 1, 1, 1, 1, 1, 1, 1, 1, 1, 1, 1, 1, 1, 1, 1, 1, 1, 1, 1, 1, 1, 1, 1, 1, 1, 1, 1, 1, 1, 1, 1, 1, 1, 1, 1, 1, 1, 1, 1, 1, 1, 1, 1, 1, 1, 1, 1, 1, 1, 1, 1, 1, 1, 1, 1, 1, 1, 1, 1, 1, 1, 1, 1, 1, 1, 1, 1, 1, 1, 1, 1, 1, 1, 1, 1, 1, 1, 1, 1, 1, 1, 1, 1, 1, 1, 1, 1, 1, 1, 1, 1, 1, 1, 1, 1, 1, 1, 1, 1, 1, 1, 1, 1, 1, 1, 1, 1, 1, 1, 1, 1, 1, 1, 1, 1, 1, 1, 1, 1, 1, 1, 1, 1, 1, 1, 1, 1, 1, 1, 1, 1, 1, 1, 1, 1, 1, 1, 1, 1, 1, 1, 1, 1, 1, 1, 1, 1, 1, 1, 1, 1, 1, 1, 1, 1, 1, 1, 1, 1, 1, 1, 1, 1, 1, 1, 1, 1, 1, 1, 1, 1, 1, 1, 1, 1, 1, 1, 1, 1, 1, 1, 1, 1, 1, 1, 1, 1, 1, 1, 1, 1, 1, 1, 1, 1, 1, 1, 1, 1, 1, 1, 1, 1, 1, 1, 1, 1, 1, 1, 1, 1, 1, 1, 1, 1, 1, 1, 1, 1, 1, 1, 1, 1, 1, 1, 1, 1, 1, 1, 1, 1, 1, 1, 1, 1, 1, 1, 1, 1, 1, 1, 1, 1, 1, 1, 1, 1, 1, 1, 1, 1, 1, 1, 1, 1, 1, 1, 1, 1, 1, 1, 1, 1, 1, 1, 1, 1, 1, 1, 1, 1, 1, 1, 1, 1, 1, 1, 1, 1, 1, 1, 1, 1, 1, 1, 1, 1, 1, 1, 1, 1, 1, 1, 1, 1, 1, 1, 1, 1, 1, 1, 1, 1, 1, 1, 1, 1, 1, 1, 1, 1, 1, 1, 1, 1, 1, 1, 1, 1, 1, 1, 1, 1, 1, 1, 1, 1, 1, 1, 1, 1, 1, 1, 1, 1, 1, 1, 1, 1, 1, 1, 1, 1, 1, 1, 1, 1, 1, 1, 1, 1, 1, 1, 1, 1, 1, 1, 1, 1, 1, 1, 1, 1, 1, 1, 1, 1, 1, 1, 1, 1, 1, 1, 1, 1, 1, 1, 1, 1, 1, 1, 1, 1, 1, 1, 1, 1, 1, 1, 1, 1, 1, 1, 1, 1, 1, 1, 1, 1, 1, 1, 1, 1, 1, 1, 1, 1, 1, 1, 1, 1, 1, 1, 1, 1, 1, 1, 1, 1, 1, 1, 1, 1, 1, 1, 1, 1, 1, 1, 1, 1, 1, 1, 1, 1, 1, 1, 1, 1, 1, 1, 1, 1, 1, 1, 1, 1, 1, 1, 1, 1, 1, 1, 1, 1, 1, 1, 1, 1, 1, 1, 1, 1, 1, 1, 1, 1, 1, 1, 1, 1, 1, 1, 1, 1, 1, 1, 1, 1, 1, 1, 1, 1, 1, 1, 1, 1, 1, 1, 1, 1, 1, 1, 1, 1, 1, 1, 1, 1, 1, 1, 1, 1, 1, 1, 1, 1, 1, 1, 1, 1, 1, 1, 1, 1, 1, 1, 1, 1, 1, 1, 1, 1, 1, 1, 1, 1, 1, 1, 1, 1, 1, 1, 1, 1, 1, 1, 1, 1, 1, 1, 1, 1, 1, 1, 1, 1, 1, 1, 1, 1, 1, 1, 1, 1, 1, 1, 1, 1, 1, 1, 1, 1, 1, 1, 1, 1, 1, 1, 1, 1, 1, 1, 1, 1, 1, 1, 1, 1, 1, 1, 1, 1, 1, 1, 1, 1, 1, 1, 1, 1, 1, 1, 1, 1, 1, 1, 1, 1, 1, 1, 1, 1, 1, 1, 1, 1, 1, 1, 1, 1, 1, 1, 1, 1, 1, 1, 1, 1, 1, 1, 1, 1, 1, 1, 1, 1, 1, 1, 1, 1, 1, 1, 1, 1, 1, 1, 1, 1, 1, 1, 1, 1, 1, 1, 1, 1, 1, 1, 1, 1, 1, 1, 1, 1, 1, 1, 1, 1, 1, 1, 1, 1, 1, 1, 1, 1, 1, 1, 1, 1, 1, 1, 1, 1, 1, 1, 1, 1, 1, 1, 1, 1, 1, 1, 1, 1, 1, 1, 1, 1, 1, 1, 1, 1, 1, 1, 1, 1, 1, 1, 1, 1, 1, 1, 1, 1, 1, 1, 1, 1, 1, 1, 1, 1, 1, 1, 1, 1, 1, 1, 1, 1, 1, 1, 1, 1, 1, 1, 1, 1, 1, 1, 1, 1, 1, 1, 1, 1, 1, 1, 1, 1, 1, 1, 1, 1, 1, 1, 1, 1, 1, 1, 1, 1, 1, 1, 1, 1, 1, 1, 1, 1, 1, 1, 1, 1, 1, 1, 1, 1, 1, 1, 1, 1, 1, 1, 1, 1, 1, 1, 1, 1, 1, 1, 1, 1, 1, 1, 1, 1, 1, 1, 1, 1, 1, 1, 1, 1, 1, 1, 1, 1, 1, 1, 1, 1, 1, 1, 1, 1, 1, 1, 1, 1, 1, 1, 1, 1, 1, 1, 1, 1, 1, 1, 1, 1, 1, 1, 1, 1, 1, 1, 1, 1, 1, 1, 1, 1, 1, 1, 1, 1, 1, 1, 1, 1, 1, 1, 1, 1, 1, 1, 1, 1, 1, 1, 1, 1, 1, 1, 1, 1, 1, 1, 1, 1, 1, 1, 1, 1, 1, 1, 1, 1, 1, 1, 1, 1, 1, 1, 1, 1, 1, 1, 1, 1, 1, 1, 1, 1, 1, 1, 1, 1, 1, 1, 1, 1, 1, 1, 1, 1, 1, 1, 1, 1, 1, 1, 1, 1, 1, 1, 1, 1, 1, 1, 1, 1, 1, 1, 1, 1, 1, 1, 1, 1, 1, 1, 1, 1, 1, 1, 1, 1, 1, 1, 1, 1, 1, 1, 1, 1, 1, 1, 1, 1, 1, 1, 1, 1, 1, 1, 1, 1, 1, 1, 1, 1, 1, 1, 1, 1, 1, 1, 1, 1, 1, 1, 1, 1, 1, 1, 1, 1, 1, 1, 1, 1, 1, 1]\n",
      "0.2948616444836008\n"
>>>>>>> f2d40e7a9a303be0dcfaf6403a87887d085a0a03
     ]
    }
   ],
   "source": [
    "print(wassIterations)\n",
    "print(np.mean(wassFidelity))\n",
    "\n",
    "print(fidelityIterations)\n",
    "print(np.mean(fidelityFidelity))"
   ]
  },
  {
   "cell_type": "code",
   "execution_count": 337,
   "metadata": {},
   "outputs": [
    {
     "data": {
      "image/png": "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",
      "text/plain": [
       "<Figure size 432x288 with 1 Axes>"
      ]
     },
     "metadata": {
      "needs_background": "light"
     },
     "output_type": "display_data"
    },
    {
     "data": {
      "image/png": "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",
      "text/plain": [
       "<Figure size 432x288 with 1 Axes>"
      ]
     },
     "metadata": {
      "needs_background": "light"
     },
     "output_type": "display_data"
    }
   ],
   "source": [
    "plt.hist(wassIterations, color='blue', label='Wasserstein', alpha=0.5)\n",
    "plt.hist(fidelityIterations, color='orange', label='Fidelity', alpha=0.5)\n",
    "\n",
    "plt.xlabel(\"Number of iterations\")\n",
    "plt.ylabel(\"Number of simulations\")\n",
    "plt.legend(loc='upper right')\n",
    "plt.show()\n",
    "\n",
    "plt.hist(wassFidelity, color='blue', label='Wasserstein', alpha=0.5)\n",
    "plt.hist(fidelityFidelity, color='orange', label='Fidelity', alpha=0.5)\n",
    "plt.xlabel(\"Fidelity\")\n",
    "plt.ylabel(\"Number of simulations\")\n",
    "plt.legend(loc='upper right')\n",
    "plt.show()"
   ]
  },
  {
   "attachments": {},
   "cell_type": "markdown",
   "metadata": {},
   "source": [
    "## Phaseflip Results"
   ]
  },
  {
   "cell_type": "code",
   "execution_count": 338,
   "metadata": {},
   "outputs": [],
   "source": [
    "fidelityIterations = []\n",
    "fidelityFidelity = []\n",
    "\n",
    "for i in range(num_sim):\n",
    "    _, _, iterations, fidelity = simulation(fidelity_cost_phaseflip_noise, fidelity_density, False)\n",
    "\n",
    "    # if fidelity > f_0:\n",
    "    fidelityIterations.append(iterations)\n",
    "    fidelityFidelity.append(fidelity)\n"
   ]
  },
  {
   "cell_type": "code",
   "execution_count": 339,
   "metadata": {},
   "outputs": [],
   "source": [
    "wassIterations = []\n",
    "wassFidelity = []\n",
    "\n",
    "for i in range(num_sim):\n",
    "    _, _, iterations, fidelity = simulation(wasserstein_cost_phaseflip_noise, wasserstein_density, False)\n",
    "\n",
    "    # if fidelity > f_0:\n",
    "    wassIterations.append(iterations)\n",
    "    wassFidelity.append(fidelity)\n"
   ]
  },
  {
   "cell_type": "code",
   "execution_count": 340,
   "metadata": {},
   "outputs": [
    {
     "name": "stdout",
     "output_type": "stream",
     "text": [
      "[10, 10, 10]\n",
      "[0.5984336578965019, 0.6478415806657429, 0.5687956680708363]\n",
      "[10, 10, 10]\n",
      "[0.5768188741985862, 0.708162037255005, 0.6523073024522302]\n"
     ]
    }
   ],
   "source": [
    "print(wassIterations)\n",
    "print(wassFidelity)\n",
    "\n",
    "print(fidelityIterations)\n",
    "print(fidelityFidelity)"
   ]
  },
  {
   "cell_type": "code",
   "execution_count": 341,
   "metadata": {},
   "outputs": [
    {
     "data": {
      "image/png": "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",
      "text/plain": [
       "<Figure size 432x288 with 1 Axes>"
      ]
     },
     "metadata": {
      "needs_background": "light"
     },
     "output_type": "display_data"
    },
    {
     "data": {
      "image/png": "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",
      "text/plain": [
       "<Figure size 432x288 with 1 Axes>"
      ]
     },
     "metadata": {
      "needs_background": "light"
     },
     "output_type": "display_data"
    }
   ],
   "source": [
    "plt.hist(wassIterations, color='blue', label='Wasserstein', alpha=0.5)\n",
    "plt.hist(fidelityIterations, color='orange', label='Fidelity', alpha=0.5)\n",
    "\n",
    "plt.xlabel(\"Number of iterations\")\n",
    "plt.ylabel(\"Number of simulations\")\n",
    "plt.legend(loc='upper right')\n",
    "plt.show()\n",
    "\n",
    "plt.hist(wassFidelity, color='blue', label='Wasserstein', alpha=0.5)\n",
    "plt.hist(fidelityFidelity, color='orange', label='Fidelity', alpha=0.5)\n",
    "plt.xlabel(\"Fidelity\")\n",
    "plt.ylabel(\"Number of simulations\")\n",
    "plt.legend(loc='upper right')\n",
    "plt.show()"
   ]
  },
  {
   "attachments": {},
   "cell_type": "markdown",
   "metadata": {},
   "source": [
    "## Wasserstein then Fidelity"
   ]
  },
  {
   "cell_type": "code",
   "execution_count": 342,
   "metadata": {},
   "outputs": [
    {
     "name": "stderr",
     "output_type": "stream",
     "text": [
      "C:\\Users\\mgyen\\AppData\\Local\\Temp/ipykernel_4072/3611347441.py:7: VisibleDeprecationWarning: Creating an ndarray from ragged nested sequences (which is a list-or-tuple of lists-or-tuples-or ndarrays with different lengths or shapes) is deprecated. If you meant to do this, you must specify 'dtype=object' when creating the ndarray.\n",
      "  fidelityDiff.append(fidelityDiff - wassFidelity)\n"
     ]
    },
    {
     "ename": "ValueError",
     "evalue": "x must have 2 or fewer dimensions",
     "output_type": "error",
     "traceback": [
      "\u001b[1;31m---------------------------------------------------------------------------\u001b[0m",
      "\u001b[1;31mValueError\u001b[0m                                Traceback (most recent call last)",
      "\u001b[1;32m~\\AppData\\Local\\Temp/ipykernel_4072/3611347441.py\u001b[0m in \u001b[0;36m<module>\u001b[1;34m\u001b[0m\n\u001b[0;32m      9\u001b[0m \u001b[1;33m\u001b[0m\u001b[0m\n\u001b[0;32m     10\u001b[0m \u001b[1;33m\u001b[0m\u001b[0m\n\u001b[1;32m---> 11\u001b[1;33m \u001b[0mplt\u001b[0m\u001b[1;33m.\u001b[0m\u001b[0mhist\u001b[0m\u001b[1;33m(\u001b[0m\u001b[0mfidelityDiff\u001b[0m\u001b[1;33m,\u001b[0m \u001b[0mcolor\u001b[0m\u001b[1;33m=\u001b[0m\u001b[1;34m'blue'\u001b[0m\u001b[1;33m)\u001b[0m\u001b[1;33m\u001b[0m\u001b[1;33m\u001b[0m\u001b[0m\n\u001b[0m\u001b[0;32m     12\u001b[0m \u001b[1;33m\u001b[0m\u001b[0m\n\u001b[0;32m     13\u001b[0m \u001b[0mplt\u001b[0m\u001b[1;33m.\u001b[0m\u001b[0mxlabel\u001b[0m\u001b[1;33m(\u001b[0m\u001b[1;34m\"Fidelity\"\u001b[0m\u001b[1;33m)\u001b[0m\u001b[1;33m\u001b[0m\u001b[1;33m\u001b[0m\u001b[0m\n",
      "\u001b[1;32m~\\AppData\\Roaming\\Python\\Python39\\site-packages\\matplotlib\\pyplot.py\u001b[0m in \u001b[0;36mhist\u001b[1;34m(x, bins, range, density, weights, cumulative, bottom, histtype, align, orientation, rwidth, log, color, label, stacked, data, **kwargs)\u001b[0m\n\u001b[0;32m   2579\u001b[0m         \u001b[0morientation\u001b[0m\u001b[1;33m=\u001b[0m\u001b[1;34m'vertical'\u001b[0m\u001b[1;33m,\u001b[0m \u001b[0mrwidth\u001b[0m\u001b[1;33m=\u001b[0m\u001b[1;32mNone\u001b[0m\u001b[1;33m,\u001b[0m \u001b[0mlog\u001b[0m\u001b[1;33m=\u001b[0m\u001b[1;32mFalse\u001b[0m\u001b[1;33m,\u001b[0m \u001b[0mcolor\u001b[0m\u001b[1;33m=\u001b[0m\u001b[1;32mNone\u001b[0m\u001b[1;33m,\u001b[0m\u001b[1;33m\u001b[0m\u001b[1;33m\u001b[0m\u001b[0m\n\u001b[0;32m   2580\u001b[0m         label=None, stacked=False, *, data=None, **kwargs):\n\u001b[1;32m-> 2581\u001b[1;33m     return gca().hist(\n\u001b[0m\u001b[0;32m   2582\u001b[0m         \u001b[0mx\u001b[0m\u001b[1;33m,\u001b[0m \u001b[0mbins\u001b[0m\u001b[1;33m=\u001b[0m\u001b[0mbins\u001b[0m\u001b[1;33m,\u001b[0m \u001b[0mrange\u001b[0m\u001b[1;33m=\u001b[0m\u001b[0mrange\u001b[0m\u001b[1;33m,\u001b[0m \u001b[0mdensity\u001b[0m\u001b[1;33m=\u001b[0m\u001b[0mdensity\u001b[0m\u001b[1;33m,\u001b[0m \u001b[0mweights\u001b[0m\u001b[1;33m=\u001b[0m\u001b[0mweights\u001b[0m\u001b[1;33m,\u001b[0m\u001b[1;33m\u001b[0m\u001b[1;33m\u001b[0m\u001b[0m\n\u001b[0;32m   2583\u001b[0m         \u001b[0mcumulative\u001b[0m\u001b[1;33m=\u001b[0m\u001b[0mcumulative\u001b[0m\u001b[1;33m,\u001b[0m \u001b[0mbottom\u001b[0m\u001b[1;33m=\u001b[0m\u001b[0mbottom\u001b[0m\u001b[1;33m,\u001b[0m \u001b[0mhisttype\u001b[0m\u001b[1;33m=\u001b[0m\u001b[0mhisttype\u001b[0m\u001b[1;33m,\u001b[0m\u001b[1;33m\u001b[0m\u001b[1;33m\u001b[0m\u001b[0m\n",
      "\u001b[1;32m~\\AppData\\Roaming\\Python\\Python39\\site-packages\\matplotlib\\__init__.py\u001b[0m in \u001b[0;36minner\u001b[1;34m(ax, data, *args, **kwargs)\u001b[0m\n\u001b[0;32m   1431\u001b[0m     \u001b[1;32mdef\u001b[0m \u001b[0minner\u001b[0m\u001b[1;33m(\u001b[0m\u001b[0max\u001b[0m\u001b[1;33m,\u001b[0m \u001b[1;33m*\u001b[0m\u001b[0margs\u001b[0m\u001b[1;33m,\u001b[0m \u001b[0mdata\u001b[0m\u001b[1;33m=\u001b[0m\u001b[1;32mNone\u001b[0m\u001b[1;33m,\u001b[0m \u001b[1;33m**\u001b[0m\u001b[0mkwargs\u001b[0m\u001b[1;33m)\u001b[0m\u001b[1;33m:\u001b[0m\u001b[1;33m\u001b[0m\u001b[1;33m\u001b[0m\u001b[0m\n\u001b[0;32m   1432\u001b[0m         \u001b[1;32mif\u001b[0m \u001b[0mdata\u001b[0m \u001b[1;32mis\u001b[0m \u001b[1;32mNone\u001b[0m\u001b[1;33m:\u001b[0m\u001b[1;33m\u001b[0m\u001b[1;33m\u001b[0m\u001b[0m\n\u001b[1;32m-> 1433\u001b[1;33m             \u001b[1;32mreturn\u001b[0m \u001b[0mfunc\u001b[0m\u001b[1;33m(\u001b[0m\u001b[0max\u001b[0m\u001b[1;33m,\u001b[0m \u001b[1;33m*\u001b[0m\u001b[0mmap\u001b[0m\u001b[1;33m(\u001b[0m\u001b[0msanitize_sequence\u001b[0m\u001b[1;33m,\u001b[0m \u001b[0margs\u001b[0m\u001b[1;33m)\u001b[0m\u001b[1;33m,\u001b[0m \u001b[1;33m**\u001b[0m\u001b[0mkwargs\u001b[0m\u001b[1;33m)\u001b[0m\u001b[1;33m\u001b[0m\u001b[1;33m\u001b[0m\u001b[0m\n\u001b[0m\u001b[0;32m   1434\u001b[0m \u001b[1;33m\u001b[0m\u001b[0m\n\u001b[0;32m   1435\u001b[0m         \u001b[0mbound\u001b[0m \u001b[1;33m=\u001b[0m \u001b[0mnew_sig\u001b[0m\u001b[1;33m.\u001b[0m\u001b[0mbind\u001b[0m\u001b[1;33m(\u001b[0m\u001b[0max\u001b[0m\u001b[1;33m,\u001b[0m \u001b[1;33m*\u001b[0m\u001b[0margs\u001b[0m\u001b[1;33m,\u001b[0m \u001b[1;33m**\u001b[0m\u001b[0mkwargs\u001b[0m\u001b[1;33m)\u001b[0m\u001b[1;33m\u001b[0m\u001b[1;33m\u001b[0m\u001b[0m\n",
      "\u001b[1;32m~\\AppData\\Roaming\\Python\\Python39\\site-packages\\matplotlib\\axes\\_axes.py\u001b[0m in \u001b[0;36mhist\u001b[1;34m(self, x, bins, range, density, weights, cumulative, bottom, histtype, align, orientation, rwidth, log, color, label, stacked, **kwargs)\u001b[0m\n\u001b[0;32m   6654\u001b[0m \u001b[1;33m\u001b[0m\u001b[0m\n\u001b[0;32m   6655\u001b[0m         \u001b[1;31m# Massage 'x' for processing.\u001b[0m\u001b[1;33m\u001b[0m\u001b[1;33m\u001b[0m\u001b[0m\n\u001b[1;32m-> 6656\u001b[1;33m         \u001b[0mx\u001b[0m \u001b[1;33m=\u001b[0m \u001b[0mcbook\u001b[0m\u001b[1;33m.\u001b[0m\u001b[0m_reshape_2D\u001b[0m\u001b[1;33m(\u001b[0m\u001b[0mx\u001b[0m\u001b[1;33m,\u001b[0m \u001b[1;34m'x'\u001b[0m\u001b[1;33m)\u001b[0m\u001b[1;33m\u001b[0m\u001b[1;33m\u001b[0m\u001b[0m\n\u001b[0m\u001b[0;32m   6657\u001b[0m         \u001b[0mnx\u001b[0m \u001b[1;33m=\u001b[0m \u001b[0mlen\u001b[0m\u001b[1;33m(\u001b[0m\u001b[0mx\u001b[0m\u001b[1;33m)\u001b[0m  \u001b[1;31m# number of datasets\u001b[0m\u001b[1;33m\u001b[0m\u001b[1;33m\u001b[0m\u001b[0m\n\u001b[0;32m   6658\u001b[0m \u001b[1;33m\u001b[0m\u001b[0m\n",
      "\u001b[1;32m~\\AppData\\Roaming\\Python\\Python39\\site-packages\\matplotlib\\cbook\\__init__.py\u001b[0m in \u001b[0;36m_reshape_2D\u001b[1;34m(X, name)\u001b[0m\n\u001b[0;32m   1434\u001b[0m         \u001b[0mnd\u001b[0m \u001b[1;33m=\u001b[0m \u001b[0mnp\u001b[0m\u001b[1;33m.\u001b[0m\u001b[0mndim\u001b[0m\u001b[1;33m(\u001b[0m\u001b[0mxi\u001b[0m\u001b[1;33m)\u001b[0m\u001b[1;33m\u001b[0m\u001b[1;33m\u001b[0m\u001b[0m\n\u001b[0;32m   1435\u001b[0m         \u001b[1;32mif\u001b[0m \u001b[0mnd\u001b[0m \u001b[1;33m>\u001b[0m \u001b[1;36m1\u001b[0m\u001b[1;33m:\u001b[0m\u001b[1;33m\u001b[0m\u001b[1;33m\u001b[0m\u001b[0m\n\u001b[1;32m-> 1436\u001b[1;33m             \u001b[1;32mraise\u001b[0m \u001b[0mValueError\u001b[0m\u001b[1;33m(\u001b[0m\u001b[1;34mf'{name} must have 2 or fewer dimensions'\u001b[0m\u001b[1;33m)\u001b[0m\u001b[1;33m\u001b[0m\u001b[1;33m\u001b[0m\u001b[0m\n\u001b[0m\u001b[0;32m   1437\u001b[0m         \u001b[0mresult\u001b[0m\u001b[1;33m.\u001b[0m\u001b[0mappend\u001b[0m\u001b[1;33m(\u001b[0m\u001b[0mxi\u001b[0m\u001b[1;33m.\u001b[0m\u001b[0mreshape\u001b[0m\u001b[1;33m(\u001b[0m\u001b[1;33m-\u001b[0m\u001b[1;36m1\u001b[0m\u001b[1;33m)\u001b[0m\u001b[1;33m)\u001b[0m\u001b[1;33m\u001b[0m\u001b[1;33m\u001b[0m\u001b[0m\n\u001b[0;32m   1438\u001b[0m \u001b[1;33m\u001b[0m\u001b[0m\n",
      "\u001b[1;31mValueError\u001b[0m: x must have 2 or fewer dimensions"
     ]
    },
    {
     "data": {
      "image/png": "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",
      "text/plain": [
       "<Figure size 432x288 with 1 Axes>"
      ]
     },
     "metadata": {
      "needs_background": "light"
     },
     "output_type": "display_data"
    }
   ],
   "source": [
    "fidelityDiff = []\n",
    "for i in range(num_sim):\n",
    "    wassAlpha, wassBeta, _, wassFidelity = simulation(wasserstein_cost_phaseflip_noise, wasserstein_density, False)\n",
    "\n",
    "    _, _, _, fidelityFidelity = simulation(fidelity_cost_phaseflip_noise, fidelity_density, False)\n",
    "\n",
    "    fidelityDiff.append(fidelityDiff - wassFidelity)\n",
    "\n",
    "\n",
    "\n",
    "plt.hist(fidelityDiff, color='blue')\n",
    "\n",
    "plt.xlabel(\"Fidelity\")\n",
    "plt.ylabel(\"Number of simulations\")\n",
    "plt.show()"
   ]
  },
  {
   "attachments": {},
   "cell_type": "markdown",
   "metadata": {},
   "source": [
    "## Fidelity then Wasserstein"
   ]
  },
  {
   "cell_type": "code",
   "execution_count": null,
   "metadata": {},
   "outputs": [],
   "source": [
    "fidelityDiff = []\n",
    "for i in range(num_sim):\n",
    "    fidelityAlpha, fidelityBeta, _, fidelityFidelity = simulation(fidelity_cost_phaseflip_noise, fidelity_density, False)\n",
    "\n",
    "    _, _, _, fidelityFidelity = simulation(wasserstein_cost_phaseflip_noise, wasserstein_density, False)\n",
    "\n",
    "    fidelityDiff.append(fidelityDiff - fidelityFidelity)\n",
    "\n",
    "\n",
    "plt.hist(fidelityDiff, color='orange')\n",
    "\n",
    "plt.xlabel(\"Fidelity\")\n",
    "plt.ylabel(\"Number of simulations\")\n",
    "plt.show()"
   ]
  }
 ],
 "metadata": {
  "kernelspec": {
   "display_name": "Python 3",
   "language": "python",
   "name": "python3"
  },
  "language_info": {
   "codemirror_mode": {
    "name": "ipython",
    "version": 3
   },
   "file_extension": ".py",
   "mimetype": "text/x-python",
   "name": "python",
   "nbconvert_exporter": "python",
   "pygments_lexer": "ipython3",
   "version": "3.10.8"
  },
  "vscode": {
   "interpreter": {
    "hash": "b0fa6594d8f4cbf19f97940f81e996739fb7646882a419484c72d19e05852a7e"
   }
  }
 },
 "nbformat": 4,
 "nbformat_minor": 4
}
