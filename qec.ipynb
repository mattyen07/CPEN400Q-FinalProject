{
 "cells": [
  {
   "cell_type": "code",
   "execution_count": 2,
   "metadata": {},
   "outputs": [],
   "source": [
    "import pennylane as qml\n",
    "import pennylane.numpy as np\n",
    "import matplotlib.pyplot as plt"
   ]
  },
  {
   "cell_type": "markdown",
   "metadata": {},
   "source": [
    "# Constants\n"
   ]
  },
  {
   "cell_type": "code",
   "execution_count": 3,
   "metadata": {},
   "outputs": [],
   "source": [
    "noise_probability = 0.8\n",
    "\n",
    "Q_qubits = 1\n",
    "A_qubits = 2\n",
    "B_qubits = 2\n",
    "\n",
    "Q_wires = list(range(Q_qubits))\n",
    "A_wires = list(range(Q_qubits, Q_qubits + A_qubits))\n",
    "B_wires = list(range(Q_qubits + A_qubits, Q_qubits + A_qubits + B_qubits))\n",
    "\n",
    "#Dimensions of the unitary matrix for QA\n",
    "dim = 2 ** (Q_qubits + A_qubits)\n",
    "\n",
    "alpha_length = 18\n",
    "beta_length = 38\n",
    "\n",
    "#Quantum Device\n",
    "dev = qml.device('default.mixed', wires=Q_qubits + A_qubits + B_qubits)\n",
    "\n",
    "# Gradient Descent parameters\n",
    "stepsize = 0.01\n",
    "momentum = 0.9\n",
    "\n",
    "# Number of iterations\n",
    "num_its = 300\n",
    "\n",
    "# Number of simulations\n",
    "num_sim = 80\n",
    "\n",
    "# Baseline Fidelity\n",
    "f_0 = 0.822"
   ]
  },
  {
   "cell_type": "markdown",
   "metadata": {
    "jp-MarkdownHeadingCollapsed": true,
    "tags": []
   },
   "source": [
    "# Circuit definition\n",
    "![VQACircuit](./Images/VQAcircuit.png)\n",
    "\n",
    "![V W Definitions](./Images/V%20W%20Definitions.png)"
   ]
  },
  {
   "cell_type": "markdown",
   "metadata": {},
   "source": [
    "# $\\hat{V}_{QA}$"
   ]
  },
  {
   "cell_type": "code",
   "execution_count": 4,
   "metadata": {},
   "outputs": [],
   "source": [
    "def prepare_Q(U, wires):\n",
    "    \"\"\"Prepares Q into the quantum state defined by the unitary U\n",
    "\n",
    "    Args:\n",
    "        U (array[complex]): the matrix U to apply to the fiduciary quantum state of Q\n",
    "        wires (array[int]): the wires representing Q. If Q is a single-qubit, then this should be an array of length 1.\n",
    "    \"\"\"\n",
    "    qml.QubitUnitary(U, wires)"
   ]
  },
  {
   "cell_type": "code",
   "execution_count": 5,
   "metadata": {},
   "outputs": [],
   "source": [
    "def prepare_V_QA(alpha, wires):\n",
    "    \"\"\"Prepares the V_QA parametric gate given the vector alpha for a Q with k=1 qubits\n",
    "\n",
    "    Args:\n",
    "        alpha (array[complex]): The alpha vector containing the angles used for rotation in the Pauli operators\n",
    "        wires (array[int]): The wires to act on. wires[0] should represent Q, and wires[1..2] shoudl represent A\n",
    "    \"\"\"\n",
    "    # First two gates for each wire\n",
    "    qml.RY(alpha[0], wires=wires[0])\n",
    "    qml.RX(alpha[1], wires=wires[0])\n",
    "\n",
    "    qml.RY(alpha[6], wires=wires[1])\n",
    "    qml.RX(alpha[7], wires=wires[1])\n",
    "\n",
    "    qml.RY(alpha[12], wires=wires[2])\n",
    "    qml.RX(alpha[13], wires=wires[2])\n",
    "\n",
    "    # Controlled on wire 0\n",
    "    qml.CRX(alpha[8], wires=[wires[0], wires[1]])\n",
    "    qml.CRX(alpha[14], wires=[wires[0], wires[2]])\n",
    "\n",
    "    # Controlled on wire 1\n",
    "    qml.CRX(alpha[2], wires=[wires[1], wires[0]])\n",
    "    qml.CRX(alpha[15], wires=[wires[1], wires[2]])\n",
    "\n",
    "    # Controlled on wire 2\n",
    "    qml.CRX(alpha[3], wires=[wires[2], wires[0]])\n",
    "    qml.CRX(alpha[9], wires=[wires[2], wires[1]])\n",
    "\n",
    "    # Last two gates for each wire\n",
    "    qml.RY(alpha[4], wires=wires[0])\n",
    "    qml.RX(alpha[5], wires=wires[0])\n",
    "\n",
    "    qml.RY(alpha[10], wires=wires[1])\n",
    "    qml.RX(alpha[11], wires=wires[1])\n",
    "\n",
    "    qml.RY(alpha[16], wires=wires[2])\n",
    "    qml.RX(alpha[17], wires=wires[2])"
   ]
  },
  {
   "cell_type": "markdown",
   "metadata": {},
   "source": [
    "# $\\hat{W}_{QAB}$"
   ]
  },
  {
   "cell_type": "code",
   "execution_count": 6,
   "metadata": {},
   "outputs": [],
   "source": [
    "def prepare_W_QAB(beta, wires):\n",
    "    \"\"\"Prepares the W_QAB parametric gate given the vector beta for a Q with k=1 qubits\n",
    "\n",
    "    Args:\n",
    "        beta (array[complex]): The beta vector containing the angles used for rotation in the Pauli operators\n",
    "        wires (array[int]): The wires to act on. wires[0] should represent Q, wires[1..2] should represent A, and wires[3..4] should represent B\n",
    "    \"\"\"\n",
    "    # First two gates for each wire\n",
    "    qml.RY(beta[0], wires=wires[0])\n",
    "    qml.RX(beta[1], wires=wires[0])\n",
    "\n",
    "    qml.RY(beta[10], wires=wires[1])\n",
    "    qml.RX(beta[11], wires=wires[1])\n",
    "\n",
    "    qml.RY(beta[20], wires=wires[2])\n",
    "    qml.RX(beta[21], wires=wires[2])\n",
    "\n",
    "    qml.RY(beta[30], wires=wires[3])\n",
    "    qml.RX(beta[31], wires=wires[3])\n",
    "\n",
    "    qml.RY(beta[34], wires=wires[4])\n",
    "    qml.RX(beta[35], wires=wires[4])\n",
    "\n",
    "    # Controlled on wire 3\n",
    "    qml.CRX(beta[2], wires=[wires[3], wires[0]])\n",
    "    qml.CRZ(beta[3], wires=[wires[3], wires[0]])\n",
    "\n",
    "    qml.CRX(beta[12], wires=[wires[3], wires[1]])\n",
    "    qml.CRZ(beta[13], wires=[wires[3], wires[1]])\n",
    "\n",
    "    qml.CRX(beta[22], wires=[wires[3], wires[2]])\n",
    "    qml.CRZ(beta[23], wires=[wires[3], wires[2]])\n",
    "\n",
    "    # Controlled on wire 4\n",
    "    qml.CRX(beta[4], wires=[wires[4], wires[0]])\n",
    "    qml.CRZ(beta[5], wires=[wires[4], wires[0]])\n",
    "\n",
    "    qml.CRX(beta[14], wires=[wires[4], wires[1]])\n",
    "    qml.CRZ(beta[15], wires=[wires[4], wires[1]])\n",
    "\n",
    "    qml.CRX(beta[24], wires=[wires[4], wires[2]])\n",
    "    qml.CRZ(beta[25], wires=[wires[4], wires[2]])\n",
    "\n",
    "    # Middle rotation gates for each wire\n",
    "    qml.RY(beta[6], wires=wires[0])\n",
    "    qml.RX(beta[7], wires=wires[0])\n",
    "\n",
    "    qml.RY(beta[16], wires=wires[1])\n",
    "    qml.RX(beta[17], wires=wires[1])\n",
    "\n",
    "    qml.RY(beta[26], wires=wires[2])\n",
    "    qml.RX(beta[27], wires=wires[2])\n",
    "\n",
    "    qml.RY(beta[22], wires=wires[3])\n",
    "    qml.RX(beta[23], wires=wires[3])\n",
    "\n",
    "    qml.RY(beta[36], wires=wires[4])\n",
    "    qml.RX(beta[37], wires=wires[4])\n",
    "\n",
    "    # Controlled to apply on wire 0\n",
    "    qml.ctrl(qml.RZ(beta[8], wires=wires[0]), control=[wires[3], wires[4]], control_values=[1, 0])\n",
    "    qml.ctrl(qml.RX(beta[9], wires=wires[0]), control=[wires[3], wires[4]], control_values=[1, 0])\n",
    "\n",
    "    # Controlled to apply on wire 1\n",
    "    qml.ctrl(qml.RZ(beta[18], wires=wires[1]), control=[wires[3], wires[4]], control_values=[1, 1])\n",
    "    qml.ctrl(qml.RX(beta[19], wires=wires[1]), control=[wires[3], wires[4]], control_values=[1, 1])\n",
    "\n",
    "    # Controlled to apply on wire 2\n",
    "    qml.ctrl(qml.RZ(beta[28], wires=wires[2]), control=[wires[3], wires[4]], control_values=[0, 1])\n",
    "    qml.ctrl(qml.RX(beta[29], wires=wires[2]), control=[wires[3], wires[4]], control_values=[0, 1])"
   ]
  },
  {
   "cell_type": "markdown",
   "metadata": {},
   "source": [
    "# Calculate Hamiltonians for Fidelity and Wasserstein"
   ]
  },
  {
   "cell_type": "markdown",
   "metadata": {},
   "source": [
    "# Fidelity Hamiltonian\n",
    "![Hfid](./Images/Hfid.png)\n",
    "\n",
    "# Fidelity Cost Function\n",
    "![C_fid](./Images/C_fid.png)\n",
    "\n",
    "# Wasserstein Fidelity and Cost\n",
    "![HandC_wass](./Images/HandC_wass.png)"
   ]
  },
  {
   "cell_type": "code",
   "execution_count": 7,
   "metadata": {},
   "outputs": [],
   "source": [
    "# Get the density matrix the fiduciary state (ie. state of 0s)\n",
    "@qml.qnode(dev)\n",
    "def fiduciary_density(wires):\n",
    "    return qml.density_matrix(wires)\n",
    "\n",
    "#Calculate the hamiltonian for the fidelity cost\n",
    "H_QA_fid = np.identity(dim) - fiduciary_density(Q_wires + A_wires)\n",
    "\n",
    "def wass_hamiltonian():\n",
    "    \"\"\"Prepares the Hamiltonian for the Wasserstein cost function for 3-qubit states\n",
    "\n",
    "    Args:\n",
    "        none\n",
    "    \"\"\"\n",
    "    H_wass = np.zeros((dim, dim))\n",
    "    for i in range (1, dim):\n",
    "        vec = np.zeros((dim, 1))\n",
    "        vec[i, 0] = 1\n",
    "        \n",
    "        # Binary 011, 101, 110\n",
    "        if i == 3 or i == 5 or i == 6:\n",
    "            density_mat = 2 * np.outer(vec, vec.T)\n",
    "        # Binary 111\n",
    "        elif i == 7:\n",
    "            density_mat = 3 * np.outer(vec, vec.T)\n",
    "        # Binary 001, 010, 100\n",
    "        else:\n",
    "            density_mat = np.outer(vec, vec.T)\n",
    "            \n",
    "        H_wass += density_mat\n",
    "    return H_wass\n",
    "\n",
    "H_QA_wass = wass_hamiltonian()"
   ]
  },
  {
   "cell_type": "markdown",
   "metadata": {},
   "source": [
    "# Define Kraus Operators for Noise"
   ]
  },
  {
   "cell_type": "code",
   "execution_count": 8,
   "metadata": {},
   "outputs": [],
   "source": [
    "phase_K0 = np.sqrt(1 - noise_probability) * np.kron(np.kron(qml.Identity.compute_matrix(), qml.Identity.compute_matrix()), qml.Identity.compute_matrix())\n",
    "phase_K1 = np.sqrt(noise_probability / 3) * np.kron(np.kron(qml.PauliZ.compute_matrix(), qml.Identity.compute_matrix()), qml.Identity.compute_matrix())\n",
    "phase_K2 = np.sqrt(noise_probability / 3) * np.kron(np.kron(qml.Identity.compute_matrix(), qml.PauliZ.compute_matrix()), qml.Identity.compute_matrix())\n",
    "phase_K3 = np.sqrt(noise_probability / 3) * np.kron(np.kron(qml.Identity.compute_matrix(), qml.Identity.compute_matrix()), qml.PauliZ.compute_matrix())\n",
    "\n",
    "phaseflip_kraus_ops = [phase_K0, phase_K1, phase_K2, phase_K3]\n",
    "\n",
    "bit_K0 = np.sqrt(1 - noise_probability) * np.kron(np.kron(qml.Identity.compute_matrix(), qml.Identity.compute_matrix()), qml.Identity.compute_matrix())\n",
    "bit_K1 = np.sqrt(noise_probability / 3) * np.kron(np.kron(qml.PauliX.compute_matrix(), qml.Identity.compute_matrix()), qml.Identity.compute_matrix())\n",
    "bit_K2 = np.sqrt(noise_probability / 3) * np.kron(np.kron(qml.Identity.compute_matrix(), qml.PauliX.compute_matrix()), qml.Identity.compute_matrix())\n",
    "bit_K3 = np.sqrt(noise_probability / 3) * np.kron(np.kron(qml.Identity.compute_matrix(), qml.Identity.compute_matrix()), qml.PauliX.compute_matrix())\n",
    "\n",
    "bitflip_kraus_ops = [bit_K0, bit_K1, bit_K2, bit_K3]\n"
   ]
  },
  {
   "cell_type": "markdown",
   "metadata": {},
   "source": [
    "# Implementation of the VQA returning the final density matrix for fidelity calculations"
   ]
  },
  {
   "cell_type": "code",
   "execution_count": 9,
   "metadata": {},
   "outputs": [],
   "source": [
    "@qml.qnode(dev)\n",
    "def find_density(U, alpha, beta, bitFlip=True):\n",
    "    \"\"\"Finds the final density matrix with alpha and beta values\n",
    "\n",
    "    Args:\n",
    "        U (array[complex]): the matrix U to apply to the fiduciary quantum state of Q\n",
    "        alpha (array[int]): the alpha parameters \n",
    "        beta (array[int]): the beta parameters\n",
    "    \"\"\"\n",
    "\n",
    "    prepare_Q(U, Q_wires)\n",
    "    prepare_V_QA(alpha, Q_wires + A_wires)\n",
    "\n",
    "    # Insert noise according to boolean value\n",
    "    if (bitFlip):\n",
    "        qml.QubitChannel(bitflip_kraus_ops, wires=[0,1,2])\n",
    "    else: \n",
    "        qml.QubitChannel(phaseflip_kraus_ops, wires=[0,1,2])\n",
    "    \n",
    "    prepare_W_QAB(beta, Q_wires + A_wires + B_wires)\n",
    "    qml.adjoint(prepare_V_QA)(alpha, Q_wires + A_wires)\n",
    "    qml.adjoint(prepare_Q)(U, Q_wires)\n",
    "    return qml.density_matrix(wires=[0,1,2])"
   ]
  },
  {
   "cell_type": "markdown",
   "metadata": {},
   "source": [
    "# Implementation of the VQA returning the density matrix before unitary"
   ]
  },
  {
   "cell_type": "code",
   "execution_count": 10,
   "metadata": {},
   "outputs": [],
   "source": [
    "@qml.qnode(dev)\n",
    "def unitary_density():\n",
    "    \"\"\"Finds the initial density matrix \n",
    "    \"\"\"\n",
    "    return qml.density_matrix(wires=[0,1,2])"
   ]
  },
  {
   "cell_type": "markdown",
   "metadata": {},
   "source": [
    "# Implementation of the VQA returning the cost"
   ]
  },
  {
   "cell_type": "code",
   "execution_count": 11,
   "metadata": {},
   "outputs": [],
   "source": [
    "@qml.qnode(dev)\n",
    "def VQA(U, alpha=None, beta=None, hermitian=None, bitFlip=True):\n",
    "    prepare_Q(U, Q_wires)\n",
    "    prepare_V_QA(alpha, Q_wires + A_wires)\n",
    "\n",
    "    # Insert noise according to boolean value\n",
    "    if (bitFlip):\n",
    "        qml.QubitChannel(bitflip_kraus_ops, wires=[0,1,2])\n",
    "    else: \n",
    "        qml.QubitChannel(phaseflip_kraus_ops, wires=[0,1,2])\n",
    "    \n",
    "    prepare_W_QAB(beta, Q_wires + A_wires + B_wires)\n",
    "    qml.adjoint(prepare_V_QA)(alpha, Q_wires + A_wires)\n",
    "    qml.adjoint(prepare_Q)(U, Q_wires)\n",
    "    return qml.expval(qml.Hermitian(hermitian, wires=[0,1,2]))"
   ]
  },
  {
   "cell_type": "markdown",
   "metadata": {},
   "source": [
    "# Cost Function (Fidelity)"
   ]
  },
  {
   "cell_type": "code",
   "execution_count": 12,
   "metadata": {},
   "outputs": [],
   "source": [
    "def fidelity_cost_bitflip_noise(U):\n",
    "    def compute_cost(alpha, beta):\n",
    "        return VQA(U, alpha, beta, H_QA_fid, True)\n",
    "\n",
    "    return compute_cost"
   ]
  },
  {
   "cell_type": "code",
   "execution_count": 13,
   "metadata": {},
   "outputs": [],
   "source": [
    "def fidelity_cost_phaseflip_noise(U):\n",
    "    def compute_cost(alpha, beta):\n",
    "        return VQA(U, alpha, beta, H_QA_fid, False)\n",
    "\n",
    "    return compute_cost"
   ]
  },
  {
   "cell_type": "code",
   "execution_count": 14,
   "metadata": {},
   "outputs": [],
   "source": [
    "def wasserstein_cost_bitflip_noise(U):\n",
    "    def compute_cost(alpha, beta):\n",
    "        return VQA(U, alpha, beta, H_QA_wass, True)\n",
    "    \n",
    "    return compute_cost"
   ]
  },
  {
   "cell_type": "code",
   "execution_count": 15,
   "metadata": {},
   "outputs": [],
   "source": [
    "def wasserstein_cost_phaseflip_noise(U):\n",
    "    def compute_cost(alpha, beta):\n",
    "        return VQA(U, alpha, beta, H_QA_wass, False)\n",
    "    \n",
    "    return compute_cost"
   ]
  },
  {
   "cell_type": "markdown",
   "metadata": {},
   "source": [
    "# Reproducing Results"
   ]
  },
  {
   "cell_type": "code",
   "execution_count": 16,
   "metadata": {},
   "outputs": [],
   "source": [
    "def simulation(costNoiseModel, bitFlip):\n",
    "    \"\"\"Runs a single simulation given a cost and noise model. Runs each unitary once with different initializations and averages out the final fidelity. Each unitary is only allowed to for num_its and will early stop if we detect convergence.\n",
    "    \n",
    "    Args:\n",
    "        costNoiseModel (function): The VQA to run\n",
    "        bitflip (bool): True for bitflip, False for phaseflip\n",
    "    \"\"\"\n",
    "    \n",
    "    opt = qml.MomentumOptimizer(stepsize, momentum)\n",
    "\n",
    "    # Create unitary set of 6 matrices\n",
    "    I = qml.Identity.compute_matrix()\n",
    "    X = qml.PauliX.compute_matrix()\n",
    "    H = qml.Hadamard.compute_matrix()\n",
    "    S = qml.S.compute_matrix()\n",
    "    unitaries = [I, X, H, H @ X, S @ H, S @ H @ X]\n",
    "    \n",
    "    density_matrices = []\n",
    "    totalIterations = 0\n",
    "    for unitary in unitaries:\n",
    "        alpha = np.random.uniform(0, np.pi, size=(alpha_length,))\n",
    "        beta = np.random.uniform(0, np.pi, size=(beta_length,))\n",
    "        i = 0\n",
    "        running_costs = []\n",
    "\n",
    "        # Each unitary is limited in the number of iterations\n",
    "        while i < num_its:\n",
    "            (alpha, beta), _cost = opt.step_and_cost(costNoiseModel(unitary), alpha, beta)\n",
    "            \n",
    "            running_costs.append(_cost)\n",
    "            i += 1\n",
    "            \n",
    "            # If we detect little change in the cost, we say it has converged\n",
    "            if len(running_costs) > 50 and abs(_cost - running_costs[-2]) < 1e-4:\n",
    "                break\n",
    "\n",
    "            \n",
    "        density_matrices.append(find_density(unitary, alpha, beta, bitFlip))\n",
    "        totalIterations += i\n",
    "\n",
    "    #Find ideal state for fidelity\n",
    "    ideal_state = unitary_density()\n",
    "\n",
    "    # Find state after error correction\n",
    "    final_state = np.zeros((dim, dim), dtype=complex)\n",
    "    for i in range(len(density_matrices)):\n",
    "        final_state += density_matrices[i]\n",
    "    \n",
    "    final_state /= len(unitaries)\n",
    "\n",
    "    fidelity = qml.math.fidelity(ideal_state, final_state)    \n",
    "    return totalIterations, fidelity\n",
    "\n",
    "\n",
    "def bothCostSimulation(costNoiseModels, bitFlip):\n",
    "    \"\"\"Similar to simulation() runs single simulation but given 2 cost noise models. Runs each unitary once with different initializations. The unitary is first run on the first item of costNoisemodels and then its alpha and beta are used with the second costNoiseModel. We take the average fidelity for both cost functions to later use to see differences.\n",
    "    \n",
    "    Args:\n",
    "        costNoiseModel (array[function]): The VQAs to run\n",
    "        bitflip (bool): True for bitflip, False for phaseflip\n",
    "    \"\"\"\n",
    "    opt = qml.MomentumOptimizer(stepsize, momentum)\n",
    "\n",
    "    # Create unitary set of 6 matrices\n",
    "    I = qml.Identity.compute_matrix()\n",
    "    X = qml.PauliX.compute_matrix()\n",
    "    H = qml.Hadamard.compute_matrix()\n",
    "    S = qml.S.compute_matrix()\n",
    "    unitaries = [I, X, H, H @ X, S @ H, S @ H @ X]\n",
    "    \n",
    "    density_matrices1 = []\n",
    "    density_matrices2 = []\n",
    "\n",
    "    for unitary in unitaries:\n",
    "        alpha = np.random.uniform(0, np.pi, size=(alpha_length,))\n",
    "        beta = np.random.uniform(0, np.pi, size=(beta_length,))\n",
    "        i = 0\n",
    "        running_costs1 = []\n",
    "        while i < num_its:\n",
    "            (alpha, beta), _cost = opt.step_and_cost(costNoiseModels[0](unitary), alpha, beta)\n",
    "            \n",
    "            running_costs1.append(_cost)\n",
    "            i += 1\n",
    "            \n",
    "            # If we detect little change in the cost, we say it has converged\n",
    "            if len(running_costs1) > 50 and abs(_cost - running_costs1[-2]) < 1e-4:\n",
    "                break\n",
    "\n",
    "            \n",
    "        density_matrices1.append(find_density(unitary, alpha, beta, bitFlip))\n",
    "\n",
    "        i = 0\n",
    "        running_costs2 = []\n",
    "        while i < num_its:\n",
    "            (alpha, beta), _cost = opt.step_and_cost(costNoiseModels[1](unitary), alpha, beta)\n",
    "            \n",
    "            running_costs2.append(_cost)\n",
    "            i += 1\n",
    "            \n",
    "            # If we detect little change in the cost, we say it has converged\n",
    "            if len(running_costs2) > 50 and abs(_cost - running_costs2[-2]) < 1e-4:\n",
    "                break\n",
    "\n",
    "            \n",
    "        density_matrices2.append(find_density(unitary, alpha, beta, bitFlip))\n",
    "\n",
    "    #Find ideal state for fidelity\n",
    "    ideal_state = unitary_density()\n",
    "\n",
    "    # Find state after error correction\n",
    "    final_state1 = np.zeros((dim, dim), dtype=complex)\n",
    "    for i in range(len(density_matrices1)):\n",
    "        final_state1 += density_matrices1[i]\n",
    "    \n",
    "    final_state1 /= len(unitaries)\n",
    "\n",
    "    fidelity1 = qml.math.fidelity(ideal_state, final_state1)    \n",
    "\n",
    "\n",
    "    # Find state after error correction\n",
    "    final_state2 = np.zeros((dim, dim), dtype=complex)\n",
    "    for i in range(len(density_matrices2)):\n",
    "        final_state2 += density_matrices2[i]\n",
    "    \n",
    "    final_state2 /= len(unitaries)\n",
    "\n",
    "    fidelity2 = qml.math.fidelity(ideal_state, final_state2)   \n",
    "\n",
    "    return fidelity1, fidelity2\n"
   ]
  },
  {
   "cell_type": "code",
   "execution_count": 17,
   "metadata": {},
   "outputs": [],
   "source": [
    "def plotSimulation(wassIterations, fidelityIterations, wassFidelity, fidelityFidelity, noiseType, pltIterations=False):\n",
    "   \n",
    "   plt.hist(wassIterations, color='blue', label='Wasserstein', alpha=0.5)\n",
    "   plt.hist(fidelityIterations, color='orange', label='Fidelity', alpha=0.5)\n",
    "   plt.xlabel(\"Number of iterations\")\n",
    "   plt.ylabel(\"Number of simulations\")\n",
    "   plt.legend(loc='upper right')\n",
    "   plt.title(\"# Simulations vs # Iterations for \"+ noiseType + \"Noise\")\n",
    "   plt.show()\n",
    "\n",
    "   plt.hist(wassFidelity, color='blue', label='Wasserstein', alpha=0.5, rwidth=1, align='left')\n",
    "   plt.hist(fidelityFidelity, color='orange', label='Fidelity', alpha=0.5, rwidth=1, align='left')\n",
    "   plt.hist([f_0], color='green', label='F0', alpha=1, rwidth=.25, align='left')\n",
    "   plt.xlim(0.0,1.0)\n",
    "   plt.xlabel(\"Average Fidelity\")\n",
    "   plt.ylabel(\"Number of simulations\")\n",
    "   plt.legend(loc='upper right')\n",
    "   plt.title(\"# Simulations vs Average Fidelity for \" + noiseType + \" Noise\")\n",
    "   plt.show()"
   ]
  },
  {
   "cell_type": "code",
   "execution_count": 18,
   "metadata": {},
   "outputs": [],
   "source": [
    "def runSimulations(cost_and_noise_model, bitFlip=True):\n",
    "    totalIterations = []\n",
    "    totalFidelity = []\n",
    "    for _ in range(num_sim):\n",
    "        iterations, fidelity = simulation(cost_and_noise_model, bitFlip)\n",
    "        \n",
    "        totalIterations.append(iterations)\n",
    "        totalFidelity.append(fidelity) \n",
    "\n",
    "    return totalIterations, totalFidelity"
   ]
  },
  {
   "cell_type": "code",
   "execution_count": 19,
   "metadata": {},
   "outputs": [],
   "source": [
    "def runBothCostSimulations(noiseModels, bifFlip=True):\n",
    "   fidelityDiff = []\n",
    "   for _ in range(num_sim):\n",
    "      fidelity1, fidelity2 = bothCostSimulation(noiseModels, bifFlip)\n",
    "\n",
    "      fidelityDiff.append(fidelity2 - fidelity1)\n",
    "   return fidelityDiff"
   ]
  },
  {
   "cell_type": "markdown",
   "metadata": {},
   "source": [
    "## Bitflip results"
   ]
  },
  {
   "cell_type": "code",
   "execution_count": 19,
   "metadata": {},
   "outputs": [],
   "source": [
    "FidelityIterationsBitflip, fidelityFidelityBitflip = runSimulations(fidelity_cost_bitflip_noise, True)"
   ]
  },
  {
   "cell_type": "code",
   "execution_count": 20,
   "metadata": {},
   "outputs": [],
   "source": [
    "wassIterationsBitflip, wassFidelityBitflip = runSimulations(wasserstein_cost_bitflip_noise, True)\n"
   ]
  },
  {
   "cell_type": "code",
   "execution_count": null,
   "metadata": {},
   "outputs": [],
   "source": [
    "print(FidelityIterationsBitflip)\n",
    "print(fidelityFidelityBitflip)\n",
    "\n",
    "print(wassIterationsBitflip)\n",
    "print(wassFidelityBitflip)"
   ]
  },
  {
   "cell_type": "code",
   "execution_count": 22,
   "metadata": {},
   "outputs": [
    {
     "data": {
      "image/png": "[encoded data removed]",
      "text/plain": [
       "<Figure size 640x480 with 1 Axes>"
      ]
     },
     "metadata": {},
     "output_type": "display_data"
    },
    {
     "data": {
      "image/png": "[encoded data removed]",
      "text/plain": [
       "<Figure size 640x480 with 1 Axes>"
      ]
     },
     "metadata": {},
     "output_type": "display_data"
    }
   ],
   "source": [
    "plotSimulation(wassIterationsBitflip, FidelityIterationsBitflip, wassFidelityBitflip, fidelityFidelityBitflip, \"Bitflip\")"
   ]
  },
  {
   "cell_type": "markdown",
   "metadata": {},
   "source": [
    "## Phaseflip Results"
   ]
  },
  {
   "cell_type": "code",
   "execution_count": 23,
   "metadata": {},
   "outputs": [],
   "source": [
    "fidelityIterationsPhaseFlip, fidelityFidelityPhaseFlip = runSimulations(fidelity_cost_phaseflip_noise, False)"
   ]
  },
  {
   "cell_type": "code",
   "execution_count": 24,
   "metadata": {},
   "outputs": [],
   "source": [
    "wassIterationsPhaseflip, wassFidelityPhaseflip = runSimulations(wasserstein_cost_phaseflip_noise, False)"
   ]
  },
  {
   "cell_type": "code",
   "execution_count": null,
   "metadata": {},
   "outputs": [],
   "source": [
    "print(wassIterationsPhaseflip)\n",
    "print(wassFidelityPhaseflip)\n",
    "\n",
    "print(fidelityIterationsPhaseFlip)\n",
    "print(fidelityFidelityPhaseFlip)"
   ]
  },
  {
   "cell_type": "code",
   "execution_count": 26,
   "metadata": {},
   "outputs": [
    {
     "data": {
      "image/png": "[encoded data removed]",
      "text/plain": [
       "<Figure size 640x480 with 1 Axes>"
      ]
     },
     "metadata": {},
     "output_type": "display_data"
    },
    {
     "data": {
      "image/png": "[encoded data removed]",
      "text/plain": [
       "<Figure size 640x480 with 1 Axes>"
      ]
     },
     "metadata": {},
     "output_type": "display_data"
    }
   ],
   "source": [
    "plotSimulation(wassIterationsPhaseflip, fidelityIterationsPhaseFlip, wassFidelityPhaseflip, fidelityFidelityPhaseFlip, \"Phaseflip\")"
   ]
  },
  {
   "cell_type": "markdown",
   "metadata": {},
   "source": [
    "## Wasserstein then Fidelity"
   ]
  },
  {
   "cell_type": "code",
   "execution_count": 20,
   "metadata": {},
   "outputs": [
    {
     "ename": "NameError",
     "evalue": "name 'VQA_wasserstein' is not defined",
     "output_type": "error",
     "traceback": [
      "\u001b[0;31m---------------------------------------------------------------------------\u001b[0m",
      "\u001b[0;31mNameError\u001b[0m                                 Traceback (most recent call last)",
      "\u001b[1;32m/Users/Aethr/Downloads/RandomProgrammingCrap/cpen400q/CPEN400Q-FinalProject/qec.ipynb Cell 42\u001b[0m in \u001b[0;36m1\n\u001b[0;32m----> <a href='vscode-notebook-cell:/Users/Aethr/Downloads/RandomProgrammingCrap/cpen400q/CPEN400Q-FinalProject/qec.ipynb#X64sZmlsZQ%3D%3D?line=0'>1</a>\u001b[0m fidelityDiff \u001b[39m=\u001b[39m runBothCostSimulations([wasserstein_cost_bitflip_noise, fidelity_cost_bitflip_noise], \u001b[39mTrue\u001b[39;49;00m)\n\u001b[1;32m      <a href='vscode-notebook-cell:/Users/Aethr/Downloads/RandomProgrammingCrap/cpen400q/CPEN400Q-FinalProject/qec.ipynb#X64sZmlsZQ%3D%3D?line=2'>3</a>\u001b[0m plt\u001b[39m.\u001b[39mhist(fidelityDiff, color\u001b[39m=\u001b[39m\u001b[39m'\u001b[39m\u001b[39mblue\u001b[39m\u001b[39m'\u001b[39m)\n\u001b[1;32m      <a href='vscode-notebook-cell:/Users/Aethr/Downloads/RandomProgrammingCrap/cpen400q/CPEN400Q-FinalProject/qec.ipynb#X64sZmlsZQ%3D%3D?line=3'>4</a>\u001b[0m plt\u001b[39m.\u001b[39mxlabel(\u001b[39m\"\u001b[39m\u001b[39mFidelity\u001b[39m\u001b[39m\"\u001b[39m)\n",
      "\u001b[1;32m/Users/Aethr/Downloads/RandomProgrammingCrap/cpen400q/CPEN400Q-FinalProject/qec.ipynb Cell 42\u001b[0m in \u001b[0;36m4\n\u001b[1;32m      <a href='vscode-notebook-cell:/Users/Aethr/Downloads/RandomProgrammingCrap/cpen400q/CPEN400Q-FinalProject/qec.ipynb#X64sZmlsZQ%3D%3D?line=1'>2</a>\u001b[0m fidelityDiff \u001b[39m=\u001b[39m []\n\u001b[1;32m      <a href='vscode-notebook-cell:/Users/Aethr/Downloads/RandomProgrammingCrap/cpen400q/CPEN400Q-FinalProject/qec.ipynb#X64sZmlsZQ%3D%3D?line=2'>3</a>\u001b[0m \u001b[39mfor\u001b[39;00m _ \u001b[39min\u001b[39;00m \u001b[39mrange\u001b[39m(num_sim):\n\u001b[0;32m----> <a href='vscode-notebook-cell:/Users/Aethr/Downloads/RandomProgrammingCrap/cpen400q/CPEN400Q-FinalProject/qec.ipynb#X64sZmlsZQ%3D%3D?line=3'>4</a>\u001b[0m    fidelity1, fidelity2 \u001b[39m=\u001b[39m bothCostSimulation(noiseModels, bifFlip)\n\u001b[1;32m      <a href='vscode-notebook-cell:/Users/Aethr/Downloads/RandomProgrammingCrap/cpen400q/CPEN400Q-FinalProject/qec.ipynb#X64sZmlsZQ%3D%3D?line=5'>6</a>\u001b[0m    fidelityDiff\u001b[39m.\u001b[39mappend(fidelity2 \u001b[39m-\u001b[39m fidelity1)\n\u001b[1;32m      <a href='vscode-notebook-cell:/Users/Aethr/Downloads/RandomProgrammingCrap/cpen400q/CPEN400Q-FinalProject/qec.ipynb#X64sZmlsZQ%3D%3D?line=6'>7</a>\u001b[0m \u001b[39mreturn\u001b[39;00m fidelityDiff\n",
      "\u001b[1;32m/Users/Aethr/Downloads/RandomProgrammingCrap/cpen400q/CPEN400Q-FinalProject/qec.ipynb Cell 42\u001b[0m in \u001b[0;36m7\n\u001b[1;32m     <a href='vscode-notebook-cell:/Users/Aethr/Downloads/RandomProgrammingCrap/cpen400q/CPEN400Q-FinalProject/qec.ipynb#X64sZmlsZQ%3D%3D?line=75'>76</a>\u001b[0m running_costs1 \u001b[39m=\u001b[39m []\n\u001b[1;32m     <a href='vscode-notebook-cell:/Users/Aethr/Downloads/RandomProgrammingCrap/cpen400q/CPEN400Q-FinalProject/qec.ipynb#X64sZmlsZQ%3D%3D?line=76'>77</a>\u001b[0m \u001b[39mwhile\u001b[39;00m i \u001b[39m<\u001b[39m num_its:\n\u001b[0;32m---> <a href='vscode-notebook-cell:/Users/Aethr/Downloads/RandomProgrammingCrap/cpen400q/CPEN400Q-FinalProject/qec.ipynb#X64sZmlsZQ%3D%3D?line=77'>78</a>\u001b[0m     (alpha, beta), _cost \u001b[39m=\u001b[39m opt\u001b[39m.\u001b[39;49mstep_and_cost(costNoiseModels[\u001b[39m0\u001b[39;49m](unitary), alpha, beta)\n\u001b[1;32m     <a href='vscode-notebook-cell:/Users/Aethr/Downloads/RandomProgrammingCrap/cpen400q/CPEN400Q-FinalProject/qec.ipynb#X64sZmlsZQ%3D%3D?line=79'>80</a>\u001b[0m     running_costs1\u001b[39m.\u001b[39mappend(_cost)\n\u001b[1;32m     <a href='vscode-notebook-cell:/Users/Aethr/Downloads/RandomProgrammingCrap/cpen400q/CPEN400Q-FinalProject/qec.ipynb#X64sZmlsZQ%3D%3D?line=80'>81</a>\u001b[0m     i \u001b[39m+\u001b[39m\u001b[39m=\u001b[39m \u001b[39m1\u001b[39m\n",
      "File \u001b[0;32m/opt/homebrew/lib/python3.10/site-packages/pennylane/optimize/gradient_descent.py:59\u001b[0m, in \u001b[0;36mGradientDescentOptimizer.step_and_cost\u001b[0;34m(self, objective_fn, grad_fn, *args, **kwargs)\u001b[0m\n\u001b[1;32m     39\u001b[0m \u001b[39mdef\u001b[39;00m \u001b[39mstep_and_cost\u001b[39m(\u001b[39mself\u001b[39m, objective_fn, \u001b[39m*\u001b[39margs, grad_fn\u001b[39m=\u001b[39m\u001b[39mNone\u001b[39;00m, \u001b[39m*\u001b[39m\u001b[39m*\u001b[39mkwargs):\n\u001b[1;32m     40\u001b[0m     \u001b[39m\"\"\"Update trainable arguments with one step of the optimizer and return the corresponding\u001b[39;00m\n\u001b[1;32m     41\u001b[0m \u001b[39m    objective function value prior to the step.\u001b[39;00m\n\u001b[1;32m     42\u001b[0m \n\u001b[0;32m   (...)\u001b[0m\n\u001b[1;32m     56\u001b[0m \u001b[39m        If single arg is provided, list [array] is replaced by array.\u001b[39;00m\n\u001b[1;32m     57\u001b[0m \u001b[39m    \"\"\"\u001b[39;00m\n\u001b[0;32m---> 59\u001b[0m     g, forward \u001b[39m=\u001b[39m \u001b[39mself\u001b[39;49m\u001b[39m.\u001b[39;49mcompute_grad(objective_fn, args, kwargs, grad_fn\u001b[39m=\u001b[39;49mgrad_fn)\n\u001b[1;32m     60\u001b[0m     new_args \u001b[39m=\u001b[39m \u001b[39mself\u001b[39m\u001b[39m.\u001b[39mapply_grad(g, args)\n\u001b[1;32m     62\u001b[0m     \u001b[39mif\u001b[39;00m forward \u001b[39mis\u001b[39;00m \u001b[39mNone\u001b[39;00m:\n",
      "File \u001b[0;32m/opt/homebrew/lib/python3.10/site-packages/pennylane/optimize/gradient_descent.py:117\u001b[0m, in \u001b[0;36mGradientDescentOptimizer.compute_grad\u001b[0;34m(objective_fn, args, kwargs, grad_fn)\u001b[0m\n\u001b[1;32m     99\u001b[0m \u001b[39mr\u001b[39m\u001b[39m\"\"\"Compute gradient of the objective function at the given point and return it along with\u001b[39;00m\n\u001b[1;32m    100\u001b[0m \u001b[39mthe objective function forward pass (if available).\u001b[39;00m\n\u001b[1;32m    101\u001b[0m \n\u001b[0;32m   (...)\u001b[0m\n\u001b[1;32m    114\u001b[0m \u001b[39m    will not be evaluted and instead ``None`` will be returned.\u001b[39;00m\n\u001b[1;32m    115\u001b[0m \u001b[39m\"\"\"\u001b[39;00m\n\u001b[1;32m    116\u001b[0m g \u001b[39m=\u001b[39m get_gradient(objective_fn) \u001b[39mif\u001b[39;00m grad_fn \u001b[39mis\u001b[39;00m \u001b[39mNone\u001b[39;00m \u001b[39melse\u001b[39;00m grad_fn\n\u001b[0;32m--> 117\u001b[0m grad \u001b[39m=\u001b[39m g(\u001b[39m*\u001b[39;49margs, \u001b[39m*\u001b[39;49m\u001b[39m*\u001b[39;49mkwargs)\n\u001b[1;32m    118\u001b[0m forward \u001b[39m=\u001b[39m \u001b[39mgetattr\u001b[39m(g, \u001b[39m\"\u001b[39m\u001b[39mforward\u001b[39m\u001b[39m\"\u001b[39m, \u001b[39mNone\u001b[39;00m)\n\u001b[1;32m    120\u001b[0m num_trainable_args \u001b[39m=\u001b[39m \u001b[39msum\u001b[39m(\u001b[39mgetattr\u001b[39m(arg, \u001b[39m\"\u001b[39m\u001b[39mrequires_grad\u001b[39m\u001b[39m\"\u001b[39m, \u001b[39mFalse\u001b[39;00m) \u001b[39mfor\u001b[39;00m arg \u001b[39min\u001b[39;00m args)\n",
      "File \u001b[0;32m/opt/homebrew/lib/python3.10/site-packages/pennylane/_grad.py:115\u001b[0m, in \u001b[0;36mgrad.__call__\u001b[0;34m(self, *args, **kwargs)\u001b[0m\n\u001b[1;32m    112\u001b[0m     \u001b[39mself\u001b[39m\u001b[39m.\u001b[39m_forward \u001b[39m=\u001b[39m \u001b[39mself\u001b[39m\u001b[39m.\u001b[39m_fun(\u001b[39m*\u001b[39margs, \u001b[39m*\u001b[39m\u001b[39m*\u001b[39mkwargs)\n\u001b[1;32m    113\u001b[0m     \u001b[39mreturn\u001b[39;00m ()\n\u001b[0;32m--> 115\u001b[0m grad_value, ans \u001b[39m=\u001b[39m grad_fn(\u001b[39m*\u001b[39;49margs, \u001b[39m*\u001b[39;49m\u001b[39m*\u001b[39;49mkwargs)\n\u001b[1;32m    116\u001b[0m \u001b[39mself\u001b[39m\u001b[39m.\u001b[39m_forward \u001b[39m=\u001b[39m ans\n\u001b[1;32m    118\u001b[0m \u001b[39mreturn\u001b[39;00m grad_value\n",
      "File \u001b[0;32m/opt/homebrew/lib/python3.10/site-packages/autograd/wrap_util.py:20\u001b[0m, in \u001b[0;36munary_to_nary.<locals>.nary_operator.<locals>.nary_f\u001b[0;34m(*args, **kwargs)\u001b[0m\n\u001b[1;32m     18\u001b[0m \u001b[39melse\u001b[39;00m:\n\u001b[1;32m     19\u001b[0m     x \u001b[39m=\u001b[39m \u001b[39mtuple\u001b[39m(args[i] \u001b[39mfor\u001b[39;00m i \u001b[39min\u001b[39;00m argnum)\n\u001b[0;32m---> 20\u001b[0m \u001b[39mreturn\u001b[39;00m unary_operator(unary_f, x, \u001b[39m*\u001b[39;49mnary_op_args, \u001b[39m*\u001b[39;49m\u001b[39m*\u001b[39;49mnary_op_kwargs)\n",
      "File \u001b[0;32m/opt/homebrew/lib/python3.10/site-packages/pennylane/_grad.py:133\u001b[0m, in \u001b[0;36mgrad._grad_with_forward\u001b[0;34m(fun, x)\u001b[0m\n\u001b[1;32m    127\u001b[0m \u001b[39m@staticmethod\u001b[39m\n\u001b[1;32m    128\u001b[0m \u001b[39m@unary_to_nary\u001b[39m\n\u001b[1;32m    129\u001b[0m \u001b[39mdef\u001b[39;00m \u001b[39m_grad_with_forward\u001b[39m(fun, x):\n\u001b[1;32m    130\u001b[0m     \u001b[39m\"\"\"This function is a replica of ``autograd.grad``, with the only\u001b[39;00m\n\u001b[1;32m    131\u001b[0m \u001b[39m    difference being that it returns both the gradient *and* the forward pass\u001b[39;00m\n\u001b[1;32m    132\u001b[0m \u001b[39m    value.\"\"\"\u001b[39;00m\n\u001b[0;32m--> 133\u001b[0m     vjp, ans \u001b[39m=\u001b[39m _make_vjp(fun, x)\n\u001b[1;32m    135\u001b[0m     \u001b[39mif\u001b[39;00m \u001b[39mnot\u001b[39;00m vspace(ans)\u001b[39m.\u001b[39msize \u001b[39m==\u001b[39m \u001b[39m1\u001b[39m:\n\u001b[1;32m    136\u001b[0m         \u001b[39mraise\u001b[39;00m \u001b[39mTypeError\u001b[39;00m(\n\u001b[1;32m    137\u001b[0m             \u001b[39m\"\u001b[39m\u001b[39mGrad only applies to real scalar-output functions. \u001b[39m\u001b[39m\"\u001b[39m\n\u001b[1;32m    138\u001b[0m             \u001b[39m\"\u001b[39m\u001b[39mTry jacobian, elementwise_grad or holomorphic_grad.\u001b[39m\u001b[39m\"\u001b[39m\n\u001b[1;32m    139\u001b[0m         )\n",
      "File \u001b[0;32m/opt/homebrew/lib/python3.10/site-packages/autograd/core.py:10\u001b[0m, in \u001b[0;36mmake_vjp\u001b[0;34m(fun, x)\u001b[0m\n\u001b[1;32m      8\u001b[0m \u001b[39mdef\u001b[39;00m \u001b[39mmake_vjp\u001b[39m(fun, x):\n\u001b[1;32m      9\u001b[0m     start_node \u001b[39m=\u001b[39m VJPNode\u001b[39m.\u001b[39mnew_root()\n\u001b[0;32m---> 10\u001b[0m     end_value, end_node \u001b[39m=\u001b[39m  trace(start_node, fun, x)\n\u001b[1;32m     11\u001b[0m     \u001b[39mif\u001b[39;00m end_node \u001b[39mis\u001b[39;00m \u001b[39mNone\u001b[39;00m:\n\u001b[1;32m     12\u001b[0m         \u001b[39mdef\u001b[39;00m \u001b[39mvjp\u001b[39m(g): \u001b[39mreturn\u001b[39;00m vspace(x)\u001b[39m.\u001b[39mzeros()\n",
      "File \u001b[0;32m/opt/homebrew/lib/python3.10/site-packages/autograd/tracer.py:10\u001b[0m, in \u001b[0;36mtrace\u001b[0;34m(start_node, fun, x)\u001b[0m\n\u001b[1;32m      8\u001b[0m \u001b[39mwith\u001b[39;00m trace_stack\u001b[39m.\u001b[39mnew_trace() \u001b[39mas\u001b[39;00m t:\n\u001b[1;32m      9\u001b[0m     start_box \u001b[39m=\u001b[39m new_box(x, t, start_node)\n\u001b[0;32m---> 10\u001b[0m     end_box \u001b[39m=\u001b[39m fun(start_box)\n\u001b[1;32m     11\u001b[0m     \u001b[39mif\u001b[39;00m isbox(end_box) \u001b[39mand\u001b[39;00m end_box\u001b[39m.\u001b[39m_trace \u001b[39m==\u001b[39m start_box\u001b[39m.\u001b[39m_trace:\n\u001b[1;32m     12\u001b[0m         \u001b[39mreturn\u001b[39;00m end_box\u001b[39m.\u001b[39m_value, end_box\u001b[39m.\u001b[39m_node\n",
      "File \u001b[0;32m/opt/homebrew/lib/python3.10/site-packages/autograd/wrap_util.py:15\u001b[0m, in \u001b[0;36munary_to_nary.<locals>.nary_operator.<locals>.nary_f.<locals>.unary_f\u001b[0;34m(x)\u001b[0m\n\u001b[1;32m     13\u001b[0m \u001b[39melse\u001b[39;00m:\n\u001b[1;32m     14\u001b[0m     subargs \u001b[39m=\u001b[39m subvals(args, \u001b[39mzip\u001b[39m(argnum, x))\n\u001b[0;32m---> 15\u001b[0m \u001b[39mreturn\u001b[39;00m fun(\u001b[39m*\u001b[39;49msubargs, \u001b[39m*\u001b[39;49m\u001b[39m*\u001b[39;49mkwargs)\n",
      "\u001b[1;32m/Users/Aethr/Downloads/RandomProgrammingCrap/cpen400q/CPEN400Q-FinalProject/qec.ipynb Cell 42\u001b[0m in \u001b[0;36m3\n\u001b[1;32m      <a href='vscode-notebook-cell:/Users/Aethr/Downloads/RandomProgrammingCrap/cpen400q/CPEN400Q-FinalProject/qec.ipynb#X64sZmlsZQ%3D%3D?line=1'>2</a>\u001b[0m \u001b[39mdef\u001b[39;00m \u001b[39mcompute_cost\u001b[39m(alpha, beta):\n\u001b[0;32m----> <a href='vscode-notebook-cell:/Users/Aethr/Downloads/RandomProgrammingCrap/cpen400q/CPEN400Q-FinalProject/qec.ipynb#X64sZmlsZQ%3D%3D?line=2'>3</a>\u001b[0m     \u001b[39mreturn\u001b[39;00m VQA_wasserstein(U, alpha, beta, H_QA_wass, \u001b[39mTrue\u001b[39;00m)\n",
      "\u001b[0;31mNameError\u001b[0m: name 'VQA_wasserstein' is not defined"
     ]
    }
   ],
   "source": [
    "fidelityDiff = runBothCostSimulations([wasserstein_cost_bitflip_noise, fidelity_cost_bitflip_noise], True)\n",
    "\n",
    "plt.hist(fidelityDiff, color='blue')\n",
    "plt.xlabel(\"Fidelity\")\n",
    "plt.ylabel(\"Number of simulations\")\n",
    "plt.title(\"Difference in Fidelity when using Fidelity after Wasserstein\")\n",
    "plt.show()"
   ]
  },
  {
   "cell_type": "markdown",
   "metadata": {},
   "source": [
    "## Fidelity then Wasserstein"
   ]
  },
  {
   "cell_type": "code",
   "execution_count": 165,
   "metadata": {},
   "outputs": [
    {
     "data": {
      "image/png": "[encoded data removed]",
      "text/plain": [
       "<Figure size 640x480 with 1 Axes>"
      ]
     },
     "metadata": {},
     "output_type": "display_data"
    }
   ],
   "source": [
    "fidelityDiff = runBothCostSimulations([fidelity_cost_bitflip_noise, wasserstein_cost_bitflip_noise], True)\n",
    "\n",
    "plt.hist(fidelityDiff, color='orange')\n",
    "plt.xlabel(\"Fidelity\")\n",
    "plt.ylabel(\"Number of simulations\")\n",
    "plt.title(\"Difference in Fidelity when using Wasserstein after Fidelity\")\n",
    "plt.show()"
   ]
  },
  {
   "cell_type": "markdown",
   "metadata": {},
   "source": [
    "# Reproducing F0"
   ]
  },
  {
   "cell_type": "code",
   "execution_count": 33,
   "metadata": {},
   "outputs": [],
   "source": [
    "# Number of iterations set as 1 so there is no optimization\n",
    "num_its = 1\n",
    "\n",
    "# Number of simulations set as 1 as we only need to see one run\n",
    "num_sim = 1"
   ]
  },
  {
   "cell_type": "code",
   "execution_count": 34,
   "metadata": {},
   "outputs": [],
   "source": [
    "def F0_simulation(noiseModel, bitFlip):\n",
    "    \"\"\"Runs circuit above without the W_QAB block (ie. noise correction) to reproduce fidelity threshold value, F0\n",
    "\n",
    "    Args:\n",
    "        noiseModel (function): The VQA to run\n",
    "        bitflip (bool): True for bitflip, False for phaseflip\n",
    "    \"\"\"\n",
    "    opt = qml.MomentumOptimizer(stepsize, momentum)\n",
    "\n",
    "    # Create unitary set of 6 matrices\n",
    "    I = qml.Identity.compute_matrix()\n",
    "    X = qml.PauliX.compute_matrix()\n",
    "    H = qml.Hadamard.compute_matrix()\n",
    "    S = qml.S.compute_matrix()\n",
    "    unitaries = [I, X, H, H @ X, S @ H, S @ H @ X]\n",
    "    \n",
    "    density_matrices = []\n",
    "    iterations = []\n",
    "    for unitary in unitaries:\n",
    "\n",
    "        # Set alpha and beta as zeros so we don't apply any error correction\n",
    "        alpha = np.zeros((alpha_length,))\n",
    "        beta = np.zeros((beta_length,))\n",
    "        i = 0\n",
    "        running_costs = []\n",
    "        while i < num_its:\n",
    "            (alpha, beta), _cost = opt.step_and_cost(noiseModel(unitary), alpha, beta)\n",
    "            running_costs.append(_cost)\n",
    "            i += 1\n",
    "\n",
    "        density_matrices.append(find_density(unitary, alpha, beta, bitFlip))\n",
    "        iterations.append(i)\n",
    "\n",
    "    #Find ideal state for fidelity\n",
    "    ideal_state = unitary_density()\n",
    "\n",
    "    #Find state after error correction\n",
    "    final_state = np.zeros((dim, dim), dtype=complex)\n",
    "    for i in range(len(density_matrices)):\n",
    "        final_state += density_matrices[i]\n",
    "    \n",
    "    final_state /= len(unitaries)\n",
    "\n",
    "    fidelity = qml.math.fidelity(ideal_state, final_state)    \n",
    "    return iterations, fidelity\n"
   ]
  },
  {
   "cell_type": "code",
   "execution_count": 35,
   "metadata": {},
   "outputs": [
    {
     "data": {
      "text/plain": [
       "0.8222222222222216"
      ]
     },
     "execution_count": 35,
     "metadata": {},
     "output_type": "execute_result"
    }
   ],
   "source": [
    "_, fidelity = F0_simulation(fidelity_cost_phaseflip_noise, False)\n",
    "fidelity"
   ]
  },
  {
   "cell_type": "code",
   "execution_count": 36,
   "metadata": {},
   "outputs": [
    {
     "data": {
      "text/plain": [
       "0.8222222222222216"
      ]
     },
     "execution_count": 36,
     "metadata": {},
     "output_type": "execute_result"
    }
   ],
   "source": [
    "_, fidelity = F0_simulation(wasserstein_cost_phaseflip_noise, False)\n",
    "fidelity\n"
   ]
  }
 ],
 "metadata": {
  "kernelspec": {
   "display_name": "Python 3 (ipykernel)",
   "language": "python",
   "name": "python3"
  },
  "language_info": {
   "codemirror_mode": {
    "name": "ipython",
    "version": 3
   },
   "file_extension": ".py",
   "mimetype": "text/x-python",
   "name": "python",
   "nbconvert_exporter": "python",
   "pygments_lexer": "ipython3",
   "version": "3.10.8"
  },
  "vscode": {
   "interpreter": {
    "hash": "5f215e9cd9cc20daf3fca5fe8f7bb74af85af99e9c51763c03c8eaf91db76dbd"
   }
  }
 },
 "nbformat": 4,
 "nbformat_minor": 4
}
