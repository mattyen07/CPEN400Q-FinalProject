{
 "cells": [
  {
   "cell_type": "code",
   "execution_count": null,
   "metadata": {},
   "outputs": [],
   "source": [
    "import pennylane as qml\n",
    "import pennylane.numpy as np\n",
    "import matplotlib.pyplot as plt\n",
    "from numpy.linalg import qr"
   ]
  },
  {
   "attachments": {},
   "cell_type": "markdown",
   "metadata": {},
   "source": [
    "# Constants\n"
   ]
  },
  {
   "cell_type": "code",
   "execution_count": null,
   "metadata": {},
   "outputs": [],
   "source": [
    "noise_probability = 0.8\n",
    "\n",
    "Q_qubits = 1\n",
    "A_qubits = 2\n",
    "B_qubits = 2\n",
    "\n",
    "Q_wires = list(range(Q_qubits))\n",
    "A_wires = list(range(Q_qubits, Q_qubits + A_qubits))\n",
    "B_wires = list(range(Q_qubits + A_qubits, Q_qubits + A_qubits + B_qubits))\n",
    "\n",
    "#Dimensions of the unitary matrix for QA\n",
    "dim = 2 ** (Q_qubits + A_qubits)\n",
    "\n",
    "alpha_length = 18\n",
    "beta_length = 38\n",
    "\n",
    "#Quantum Device\n",
    "dev = qml.device('default.mixed', wires=Q_qubits + A_qubits + B_qubits)\n",
    "\n",
    "# Gradient Descent \n",
    "stepsize = 0.01\n",
    "momentum = 0.9\n",
    "\n",
    "# Number of iterations\n",
    "num_its = 10\n",
    "\n",
    "# Number of simulations\n",
    "num_sim = 3\n",
    "\n",
    "# Baseline Fidelity\n",
    "f_0 = 0.822"
   ]
  },
  {
   "cell_type": "markdown",
   "metadata": {},
   "source": [
    "# $\\hat{V}_{QA}$"
   ]
  },
  {
   "cell_type": "code",
   "execution_count": null,
   "metadata": {},
   "outputs": [],
   "source": [
    "def prepare_Q(U, wires):\n",
    "    \"\"\"Prepares Q into the quantum state defined by the unitary U\n",
    "\n",
    "    Args:\n",
    "        U (array[complex]): the matrix U to apply to the fiduciary quantum state of Q\n",
    "        wires (array[int]): the wires representing Q. If Q is a single-qubit, then this should be an array of length 1.\n",
    "    \"\"\"\n",
    "    qml.QubitUnitary(U, wires)"
   ]
  },
  {
   "cell_type": "code",
   "execution_count": null,
   "metadata": {},
   "outputs": [],
   "source": [
    "def prepare_V_QA(alpha, wires):\n",
    "    \"\"\"Prepares the V_QA parametric gate given the vector alpha for a Q with k=1 qubits\n",
    "\n",
    "    Args:\n",
    "        alpha (array[complex]): The alpha vector containing the angles used for rotation in the Pauli operators\n",
    "        wires (array[int]): The wires to act on. wires[0] should represent Q, and wires[1..2] shoudl represent A\n",
    "    \"\"\"\n",
    "    # First two gates for each wire\n",
    "    qml.RY(alpha[0], wires=wires[0])\n",
    "    qml.RX(alpha[1], wires=wires[0])\n",
    "\n",
    "    qml.RY(alpha[6], wires=wires[1])\n",
    "    qml.RX(alpha[7], wires=wires[1])\n",
    "\n",
    "    qml.RY(alpha[12], wires=wires[2])\n",
    "    qml.RX(alpha[13], wires=wires[2])\n",
    "\n",
    "    # Controlled on wire 0\n",
    "    qml.CRX(alpha[8], wires=[wires[0], wires[1]])\n",
    "    qml.CRX(alpha[14], wires=[wires[0], wires[2]])\n",
    "\n",
    "    # Controlled on wire 1\n",
    "    qml.CRX(alpha[2], wires=[wires[1], wires[0]])\n",
    "    qml.CRX(alpha[15], wires=[wires[1], wires[2]])\n",
    "\n",
    "    # Controlled on wire 2\n",
    "    qml.CRX(alpha[3], wires=[wires[2], wires[0]])\n",
    "    qml.CRX(alpha[9], wires=[wires[2], wires[1]])\n",
    "\n",
    "    # Last two gates for each wire\n",
    "    qml.RY(alpha[4], wires=wires[0])\n",
    "    qml.RX(alpha[5], wires=wires[0])\n",
    "\n",
    "    qml.RY(alpha[10], wires=wires[1])\n",
    "    qml.RX(alpha[11], wires=wires[1])\n",
    "\n",
    "    qml.RY(alpha[16], wires=wires[2])\n",
    "    qml.RX(alpha[17], wires=wires[2])"
   ]
  },
  {
   "cell_type": "markdown",
   "metadata": {},
   "source": [
    "# $\\hat{W}_{QAB}$"
   ]
  },
  {
   "cell_type": "code",
   "execution_count": null,
   "metadata": {},
   "outputs": [],
   "source": [
    "def prepare_W_QAB(beta, wires):\n",
    "    \"\"\"Prepares the W_QAB parametric gate given the vector beta for a Q with k=1 qubits\n",
    "\n",
    "    Args:\n",
    "        beta (array[complex]): The beta vector containing the angles used for rotation in the Pauli operators\n",
    "        wires (array[int]): The wires to act on. wires[0] should represent Q, wires[1..2] should represent A, and wires[3..4] should represent B\n",
    "    \"\"\"\n",
    "    # First two gates for each wire\n",
    "    qml.RY(beta[0], wires=wires[0])\n",
    "    qml.RX(beta[1], wires=wires[0])\n",
    "\n",
    "    qml.RY(beta[10], wires=wires[1])\n",
    "    qml.RX(beta[11], wires=wires[1])\n",
    "\n",
    "    qml.RY(beta[20], wires=wires[2])\n",
    "    qml.RX(beta[21], wires=wires[2])\n",
    "\n",
    "    qml.RY(beta[30], wires=wires[3])\n",
    "    qml.RX(beta[31], wires=wires[3])\n",
    "\n",
    "    qml.RY(beta[34], wires=wires[4])\n",
    "    qml.RX(beta[35], wires=wires[4])\n",
    "\n",
    "    # Controlled on wire 3\n",
    "    qml.CRX(beta[2], wires=[wires[3], wires[0]])\n",
    "    qml.CRZ(beta[3], wires=[wires[3], wires[0]])\n",
    "\n",
    "    qml.CRX(beta[12], wires=[wires[3], wires[1]])\n",
    "    qml.CRZ(beta[13], wires=[wires[3], wires[1]])\n",
    "\n",
    "    qml.CRX(beta[22], wires=[wires[3], wires[2]])\n",
    "    qml.CRZ(beta[23], wires=[wires[3], wires[2]])\n",
    "\n",
    "    # Controlled on wire 4\n",
    "    qml.CRX(beta[4], wires=[wires[4], wires[0]])\n",
    "    qml.CRZ(beta[5], wires=[wires[4], wires[0]])\n",
    "\n",
    "    qml.CRX(beta[14], wires=[wires[4], wires[1]])\n",
    "    qml.CRZ(beta[15], wires=[wires[4], wires[1]])\n",
    "\n",
    "    qml.CRX(beta[24], wires=[wires[4], wires[2]])\n",
    "    qml.CRZ(beta[25], wires=[wires[4], wires[2]])\n",
    "\n",
    "    # Middle rotation gates for each wire\n",
    "    qml.RY(beta[6], wires=wires[0])\n",
    "    qml.RX(beta[7], wires=wires[0])\n",
    "\n",
    "    qml.RY(beta[16], wires=wires[1])\n",
    "    qml.RX(beta[17], wires=wires[1])\n",
    "\n",
    "    qml.RY(beta[26], wires=wires[2])\n",
    "    qml.RX(beta[27], wires=wires[2])\n",
    "\n",
    "    qml.RY(beta[22], wires=wires[3])\n",
    "    qml.RX(beta[23], wires=wires[3])\n",
    "\n",
    "    qml.RY(beta[36], wires=wires[4])\n",
    "    qml.RX(beta[37], wires=wires[4])\n",
    "\n",
    "    # Controlled to apply on wire 0\n",
    "    qml.ctrl(qml.RZ(beta[8], wires=wires[0]), control=[wires[3], wires[4]], control_values=[1, 0])\n",
    "    qml.ctrl(qml.RX(beta[9], wires=wires[0]), control=[wires[3], wires[4]], control_values=[1, 0])\n",
    "\n",
    "    # Controlled to apply on wire 1\n",
    "    qml.ctrl(qml.RZ(beta[18], wires=wires[1]), control=[wires[3], wires[4]], control_values=[1, 1])\n",
    "    qml.ctrl(qml.RX(beta[19], wires=wires[1]), control=[wires[3], wires[4]], control_values=[1, 1])\n",
    "\n",
    "    # Controlled to apply on wire 2\n",
    "    qml.ctrl(qml.RZ(beta[28], wires=wires[2]), control=[wires[3], wires[4]], control_values=[0, 1])\n",
    "    qml.ctrl(qml.RX(beta[29], wires=wires[2]), control=[wires[3], wires[4]], control_values=[0, 1])"
   ]
  },
  {
   "attachments": {},
   "cell_type": "markdown",
   "metadata": {},
   "source": [
    "# Calculate Hamiltonians for Fidelity and Wasserstein"
   ]
  },
  {
   "cell_type": "code",
   "execution_count": null,
   "metadata": {},
   "outputs": [],
   "source": [
    "# Get the fidelity hamiltonian matrix from the 0 state\n",
    "@qml.qnode(dev)\n",
    "def fiduciary_density(wires):\n",
    "    return qml.density_matrix(wires)\n",
    "\n",
    "#Calculate the hamiltonian for the fiduciary cost\n",
    "H_QA_fid = np.identity(dim) - fiduciary_density(Q_wires + A_wires)\n",
    "\n",
    "def wass_hamiltonian():\n",
    "    H_wass = np.zeros((dim, dim))\n",
    "    for i in range (1, dim):\n",
    "        vec = np.zeros((dim, 1))\n",
    "        vec[i, 0] = 1\n",
    "        \n",
    "        # Binary 011, 101, 110\n",
    "        if i == 3 or i == 5 or i == 6:\n",
    "            density_mat = 2 * np.outer(vec, vec.T)\n",
    "        # Binary 111\n",
    "        elif i == 7:\n",
    "            density_mat = 3 * np.outer(vec, vec.T)\n",
    "        # Binary 001, 010, 100\n",
    "        else:\n",
    "            density_mat = np.outer(vec, vec.T)\n",
    "            \n",
    "        H_wass += density_mat\n",
    "    return H_wass\n",
    "\n",
    "H_QA_wass = wass_hamiltonian()"
   ]
  },
  {
   "attachments": {},
   "cell_type": "markdown",
   "metadata": {},
   "source": [
    "# Define Kraus Operators for Noise"
   ]
  },
  {
   "cell_type": "code",
   "execution_count": null,
   "metadata": {},
   "outputs": [],
   "source": [
    "phase_K0 = np.sqrt(1 - noise_probability) * np.kron(np.kron(qml.Identity.compute_matrix(), qml.Identity.compute_matrix()), qml.Identity.compute_matrix())\n",
    "phase_K1 = np.sqrt(noise_probability / 3) * np.kron(np.kron(qml.PauliZ.compute_matrix(), qml.Identity.compute_matrix()), qml.Identity.compute_matrix())\n",
    "phase_K2 = np.sqrt(noise_probability / 3) * np.kron(np.kron(qml.Identity.compute_matrix(), qml.PauliZ.compute_matrix()), qml.Identity.compute_matrix())\n",
    "phase_K3 = np.sqrt(noise_probability / 3) * np.kron(np.kron(qml.Identity.compute_matrix(), qml.Identity.compute_matrix()), qml.PauliZ.compute_matrix())\n",
    "\n",
    "phaseflip_kraus_ops = [phase_K0, phase_K1, phase_K2, phase_K3]\n",
    "\n",
    "bit_K0 = np.sqrt(1 - noise_probability) * np.kron(np.kron(qml.Identity.compute_matrix(), qml.Identity.compute_matrix()), qml.Identity.compute_matrix())\n",
    "bit_K1 = np.sqrt(noise_probability / 3) * np.kron(np.kron(qml.PauliX.compute_matrix(), qml.Identity.compute_matrix()), qml.Identity.compute_matrix())\n",
    "bit_K2 = np.sqrt(noise_probability / 3) * np.kron(np.kron(qml.Identity.compute_matrix(), qml.PauliX.compute_matrix()), qml.Identity.compute_matrix())\n",
    "bit_K3 = np.sqrt(noise_probability / 3) * np.kron(np.kron(qml.Identity.compute_matrix(), qml.Identity.compute_matrix()), qml.PauliX.compute_matrix())\n",
    "\n",
    "bitflip_kraus_ops = [bit_K0, bit_K1, bit_K2, bit_K3]\n"
   ]
  },
  {
   "attachments": {},
   "cell_type": "markdown",
   "metadata": {},
   "source": [
    "# Implementation of the VQA returning the final density matrix for fidelity calculations"
   ]
  },
  {
   "cell_type": "code",
   "execution_count": null,
   "metadata": {},
   "outputs": [],
   "source": [
    "@qml.qnode(dev)\n",
    "def find_density(U, alpha, beta, bitFlip=True):\n",
    "    prepare_Q(U, Q_wires)\n",
    "    prepare_V_QA(alpha, Q_wires + A_wires)\n",
    "\n",
    "    # Insert noise according to boolean value\n",
    "    if (bitFlip):\n",
    "        qml.QubitChannel(bitflip_kraus_ops, wires=[0,1,2])\n",
    "    else: \n",
    "        qml.QubitChannel(phaseflip_kraus_ops, wires=[0,1,2])\n",
    "    \n",
    "    prepare_W_QAB(beta, Q_wires + A_wires + B_wires)\n",
    "    qml.adjoint(prepare_V_QA)(alpha, Q_wires + A_wires)\n",
    "    qml.adjoint(prepare_Q)(U, Q_wires)\n",
    "    return qml.density_matrix(wires=[0,1,2])"
   ]
  },
  {
   "attachments": {},
   "cell_type": "markdown",
   "metadata": {},
   "source": [
    "# Implementation of the VQA returning the density matrix after unitary"
   ]
  },
  {
   "cell_type": "code",
   "execution_count": null,
   "metadata": {},
   "outputs": [],
   "source": [
    "@qml.qnode(dev)\n",
    "def unitary_density(U, alpha, beta):\n",
    "    prepare_Q(U, Q_wires)\n",
    "    prepare_V_QA(alpha, Q_wires + A_wires)\n",
    "    prepare_W_QAB(beta, Q_wires + A_wires + B_wires)\n",
    "    qml.adjoint(prepare_V_QA)(alpha, Q_wires + A_wires)\n",
    "    qml.adjoint(prepare_Q)(U, Q_wires)\n",
    "\n",
    "    return qml.density_matrix(wires=[0,1,2])"
   ]
  },
  {
   "attachments": {},
   "cell_type": "markdown",
   "metadata": {},
   "source": [
    "# Implementation of the VQA returning the cost"
   ]
  },
  {
   "cell_type": "code",
   "execution_count": null,
   "metadata": {},
   "outputs": [],
   "source": [
    "@qml.qnode(dev)\n",
    "def VQA_fidelity(U, alpha, beta, bitFlip=True):\n",
    "    prepare_Q(U, Q_wires)\n",
    "    prepare_V_QA(alpha, Q_wires + A_wires)\n",
    "\n",
    "    # Insert noise according to boolean value\n",
    "    if (bitFlip):\n",
    "        qml.QubitChannel(bitflip_kraus_ops, wires=[0,1,2])\n",
    "    else: \n",
    "        qml.QubitChannel(phaseflip_kraus_ops, wires=[0,1,2])\n",
    "    \n",
    "    prepare_W_QAB(beta, Q_wires + A_wires + B_wires)\n",
    "    qml.adjoint(prepare_V_QA)(alpha, Q_wires + A_wires)\n",
    "    qml.adjoint(prepare_Q)(U, Q_wires)\n",
    "    return qml.expval(qml.Hermitian(H_QA_fid, wires=[0,1,2]))\n",
    "    \n",
    "\n",
    "@qml.qnode(dev)\n",
    "def VQA_wasserstein(U, alpha, beta, bitFlip=True):\n",
    "    prepare_Q(U, Q_wires)\n",
    "    prepare_V_QA(alpha, Q_wires + A_wires)\n",
    "\n",
    "    # Insert noise according to boolean value\n",
    "    if (bitFlip):\n",
    "        qml.QubitChannel(bitflip_kraus_ops, wires=[0,1,2])\n",
    "    else: \n",
    "        qml.QubitChannel(phaseflip_kraus_ops, wires=[0,1,2])\n",
    "\n",
    "    prepare_W_QAB(beta, Q_wires + A_wires + B_wires)\n",
    "    qml.adjoint(prepare_V_QA)(alpha, Q_wires + A_wires)\n",
    "    qml.adjoint(prepare_Q)(U, Q_wires)\n",
    "    \n",
    "    return qml.expval(qml.Hermitian(H_QA_wass, wires=[0,1,2]))"
   ]
  },
  {
   "cell_type": "markdown",
   "metadata": {},
   "source": [
    "# Cost Function (Fidelity)"
   ]
  },
  {
   "cell_type": "code",
   "execution_count": null,
   "metadata": {},
   "outputs": [],
   "source": [
    "def fidelity_cost_bitflip_noise(U):\n",
    "    def compute_cost(alpha, beta):\n",
    "        return VQA_fidelity(U, alpha, beta, True)\n",
    "\n",
    "    return compute_cost"
   ]
  },
  {
   "cell_type": "code",
   "execution_count": null,
   "metadata": {},
   "outputs": [],
   "source": [
    "def fidelity_cost_phaseflip_noise(U):\n",
    "    def compute_cost(alpha, beta):\n",
    "        return VQA_fidelity(U, alpha, beta, True)\n",
    "\n",
    "    return compute_cost"
   ]
  },
  {
   "cell_type": "code",
   "execution_count": null,
   "metadata": {},
   "outputs": [],
   "source": [
    "def wasserstein_cost_bitflip_noise(U):\n",
    "    def compute_cost(alpha, beta):\n",
    "        return VQA_wasserstein(U, alpha, beta, True)\n",
    "    \n",
    "    return compute_cost"
   ]
  },
  {
   "cell_type": "code",
   "execution_count": null,
   "metadata": {},
   "outputs": [],
   "source": [
    "def wasserstein_cost_phaseflip_noise(U):\n",
    "    def compute_cost(alpha, beta):\n",
    "        return VQA_wasserstein(U, alpha, beta, True)\n",
    "    \n",
    "    return compute_cost"
   ]
  },
  {
   "attachments": {},
   "cell_type": "markdown",
   "metadata": {},
   "source": [
    "# Reproducing Results"
   ]
  },
  {
   "attachments": {},
   "cell_type": "markdown",
   "metadata": {},
   "source": [
    "Generate a Haar measure unitary matrix\n",
    "\n",
    "Code taken from: https://pennylane.ai/qml/demos/tutorial_haar_measure.html"
   ]
  },
  {
   "cell_type": "code",
   "execution_count": null,
   "metadata": {},
   "outputs": [],
   "source": [
    "def qr_haar(N):\n",
    "    \"\"\"Generate a Haar-random matrix using the QR decomposition.\"\"\"\n",
    "    # Step 1\n",
    "    A, B = np.random.normal(size=(N, N)), np.random.normal(size=(N, N))\n",
    "    Z = A + 1j * B\n",
    "\n",
    "    # Step 2\n",
    "    Q, R = qr(Z)\n",
    "\n",
    "    # Step 3\n",
    "    Lambda = np.diag([R[i, i] / np.abs(R[i, i]) for i in range(N)])\n",
    "\n",
    "    # Step 4\n",
    "    return np.dot(Q, Lambda)"
   ]
  },
  {
   "cell_type": "code",
   "execution_count": null,
   "metadata": {},
   "outputs": [],
   "source": [
    "def simulation(noiseModel, bitFlip):\n",
    "    opt = qml.MomentumOptimizer(stepsize, momentum)\n",
    "    alpha = np.random.uniform(0, np.pi, size=(alpha_length,))\n",
    "    beta = np.random.uniform(0, np.pi, size=(beta_length,))\n",
    "    # U = qr_haar(2)\n",
    "    U = qml.Hadamard.compute_matrix()\n",
    "\n",
    "    running_costs = []\n",
    "\n",
    "    iterations = 0\n",
    "\n",
    "    while iterations < num_its:\n",
    "        (alpha, beta), _cost = opt.step_and_cost(noiseModel(U), alpha, beta)\n",
    "        running_costs.append(_cost)\n",
    "        \n",
    "        if _cost < 1e-5:\n",
    "            break\n",
    "        \n",
    "        iterations += 1\n",
    "\n",
    "    initialDensity = unitary_density(U, alpha, beta)\n",
    "    finalDensity = find_density(U, alpha, beta, bitFlip)\n",
    "    fidelity = qml.math.fidelity(initialDensity, finalDensity)\n",
    "    \n",
    "    return alpha, beta, iterations, fidelity\n"
   ]
  },
  {
   "attachments": {},
   "cell_type": "markdown",
   "metadata": {},
   "source": [
    "## Bitflip results"
   ]
  },
  {
   "cell_type": "code",
   "execution_count": null,
   "metadata": {},
   "outputs": [],
   "source": [
    "fidelityIterations = []\n",
    "fidelityFidelity = []\n",
    "\n",
    "for i in range(num_sim):\n",
    "    _, _, iterations, fidelity = simulation(fidelity_cost_bitflip_noise, True)\n",
    "\n",
    "    # if fidelity > f_0:\n",
    "    fidelityIterations.append(iterations)\n",
    "    fidelityFidelity.append(fidelity)\n"
   ]
  },
  {
   "cell_type": "code",
   "execution_count": null,
   "metadata": {},
   "outputs": [],
   "source": [
    "wassIterations = []\n",
    "wassFidelity = []\n",
    "\n",
    "for i in range(num_sim):\n",
    "    _, _, iterations, fidelity = simulation(wasserstein_cost_bitflip_noise, True)\n",
    "\n",
    "    # if fidelity > f_0:\n",
    "    wassIterations.append(iterations)\n",
    "    wassFidelity.append(fidelity)\n"
   ]
  },
  {
   "cell_type": "code",
   "execution_count": null,
   "metadata": {},
   "outputs": [],
   "source": [
    "print(wassIterations)\n",
    "print(wassFidelity)\n",
    "\n",
    "print(fidelityIterations)\n",
    "print(fidelityFidelity)"
   ]
  },
  {
   "cell_type": "code",
   "execution_count": null,
   "metadata": {},
   "outputs": [],
   "source": [
    "plt.hist(wassIterations, color='blue', label='Wasserstein', alpha=0.5)\n",
    "plt.hist(fidelityIterations, color='orange', label='Fidelity', alpha=0.5)\n",
    "\n",
    "plt.xlabel(\"Number of iterations\")\n",
    "plt.ylabel(\"Number of simulations\")\n",
    "plt.legend(loc='upper right')\n",
    "plt.show()\n",
    "\n",
    "plt.hist(wassFidelity, color='blue', label='Wasserstein', alpha=0.5)\n",
    "plt.hist(fidelityFidelity, color='orange', label='Fidelity', alpha=0.5)\n",
    "plt.xlabel(\"Fidelity\")\n",
    "plt.ylabel(\"Number of simulations\")\n",
    "plt.legend(loc='upper right')\n",
    "plt.show()"
   ]
  },
  {
   "attachments": {},
   "cell_type": "markdown",
   "metadata": {},
   "source": [
    "## Phaseflip Results"
   ]
  },
  {
   "cell_type": "code",
   "execution_count": null,
   "metadata": {},
   "outputs": [],
   "source": [
    "fidelityIterations = []\n",
    "fidelityFidelity = []\n",
    "\n",
    "for i in range(num_sim):\n",
    "    _, _, iterations, fidelity = simulation(fidelity_cost_phaseflip_noise, False)\n",
    "\n",
    "    # if fidelity > f_0:\n",
    "    fidelityIterations.append(iterations)\n",
    "    fidelityFidelity.append(fidelity)\n"
   ]
  },
  {
   "cell_type": "code",
   "execution_count": null,
   "metadata": {},
   "outputs": [],
   "source": [
    "wassIterations = []\n",
    "wassFidelity = []\n",
    "\n",
    "for i in range(num_sim):\n",
    "    _, _, iterations, fidelity = simulation(wasserstein_cost_phaseflip_noise, False)\n",
    "\n",
    "    # if fidelity > f_0:\n",
    "    wassIterations.append(iterations)\n",
    "    wassFidelity.append(fidelity)\n"
   ]
  },
  {
   "cell_type": "code",
   "execution_count": null,
   "metadata": {},
   "outputs": [],
   "source": [
    "print(wassIterations)\n",
    "print(wassFidelity)\n",
    "\n",
    "print(fidelityIterations)\n",
    "print(fidelityFidelity)"
   ]
  },
  {
   "cell_type": "code",
   "execution_count": null,
   "metadata": {},
   "outputs": [],
   "source": [
    "plt.hist(wassIterations, color='blue', label='Wasserstein', alpha=0.5)\n",
    "plt.hist(fidelityIterations, color='orange', label='Fidelity', alpha=0.5)\n",
    "\n",
    "plt.xlabel(\"Number of iterations\")\n",
    "plt.ylabel(\"Number of simulations\")\n",
    "plt.legend(loc='upper right')\n",
    "plt.show()\n",
    "\n",
    "plt.hist(wassFidelity, color='blue', label='Wasserstein', alpha=0.5)\n",
    "plt.hist(fidelityFidelity, color='orange', label='Fidelity', alpha=0.5)\n",
    "plt.xlabel(\"Fidelity\")\n",
    "plt.ylabel(\"Number of simulations\")\n",
    "plt.legend(loc='upper right')\n",
    "plt.show()"
   ]
  },
  {
   "attachments": {},
   "cell_type": "markdown",
   "metadata": {},
   "source": [
    "## Wasserstein then Fidelity"
   ]
  },
  {
   "cell_type": "code",
   "execution_count": null,
   "metadata": {},
   "outputs": [],
   "source": [
    "fidelityDiff = []\n",
    "for i in range(num_sim):\n",
    "    wassAlpha, wassBeta, _, wassFidelity = simulation(wasserstein_cost_phaseflip_noise, False)\n",
    "\n",
    "    _, _, _, fidelityFidelity = simulation(fidelity_cost_phaseflip_noise, False)\n",
    "\n",
    "    fidelityDiff.append(fidelityDiff - wassFidelity)\n",
    "\n",
    "\n",
    "\n",
    "plt.hist(fidelityDiff, color='blue')\n",
    "\n",
    "plt.xlabel(\"Fidelity\")\n",
    "plt.ylabel(\"Number of simulations\")\n",
    "plt.show()"
   ]
  },
  {
   "attachments": {},
   "cell_type": "markdown",
   "metadata": {},
   "source": [
    "## Fidelity then Wasserstein"
   ]
  },
  {
   "cell_type": "code",
   "execution_count": null,
   "metadata": {},
   "outputs": [],
   "source": [
    "fidelityDiff = []\n",
    "for i in range(num_sim):\n",
    "    fidelityAlpha, fidelityBeta, _, fidelityFidelity = simulation(fidelity_cost_phaseflip_noise, False)\n",
    "\n",
    "    _, _, _, fidelityFidelity = simulation(wasserstein_cost_phaseflip_noise, False)\n",
    "\n",
    "    fidelityDiff.append(fidelityDiff - fidelityFidelity)\n",
    "\n",
    "\n",
    "plt.hist(fidelityDiff, color='orange')\n",
    "\n",
    "plt.xlabel(\"Fidelity\")\n",
    "plt.ylabel(\"Number of simulations\")\n",
    "plt.show()"
   ]
  }
 ],
 "metadata": {
  "kernelspec": {
   "display_name": "Python 3",
   "language": "python",
   "name": "python3"
  },
  "language_info": {
   "codemirror_mode": {
    "name": "ipython",
    "version": 3
   },
   "file_extension": ".py",
   "mimetype": "text/x-python",
   "name": "python",
   "nbconvert_exporter": "python",
   "pygments_lexer": "ipython3",
   "version": "3.10.8"
  },
  "vscode": {
   "interpreter": {
    "hash": "b0fa6594d8f4cbf19f97940f81e996739fb7646882a419484c72d19e05852a7e"
   }
  }
 },
 "nbformat": 4,
 "nbformat_minor": 4
}
